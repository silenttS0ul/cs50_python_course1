{
 "cells": [
  {
   "cell_type": "code",
   "execution_count": null,
   "id": "20a0b945",
   "metadata": {},
   "outputs": [],
   "source": [
    "while True:\n",
    "    try:\n",
    "        x=int(input(\"what's the value of x\"))\n",
    "\n",
    "    except ValueError: #    here we want to chack the input\n",
    "    \n",
    "        print('enter an inger value') #this is the massege that should show up when the user enterd a string \n",
    "                                        #value when we want an int\n",
    "\n",
    "    else:                             \n",
    "        print(x)\n",
    "        break  \n",
    "\n",
    "   \n",
    "\n",
    "\n"
   ]
  },
  {
   "cell_type": "code",
   "execution_count": null,
   "id": "a42bc183",
   "metadata": {},
   "outputs": [],
   "source": [
    "def set_value(): # this is the function that we want to creat\n",
    "\n",
    "    while True: # this loop will always be true\n",
    "    \n",
    "        try: # this function to fint the error in the input\n",
    "        \n",
    "            X=int(input(\"what's the value of x? \")) #here we ask the user to enter an int value\n",
    "            \n",
    "            \n",
    "        #                                                                             )\n",
    "        #         هنا نستطيع بدلا من كتابه هذا الكود و لعمل كود اصغر سوف نكتب هذا\n",
    "           \n",
    "        #     return int(input(\"what's the value of x? \"))\n",
    "        #     except ValueError:\n",
    "        #     print('enter an inger value')\n",
    "\n",
    "        #     و الان قمنا بعمل نفس النتيجه بكود اصغر\n",
    "\n",
    "        #   (\n",
    "          \n",
    "        \n",
    "        except ValueError:\n",
    "            print('enter an inger value') # here we can use pass : وهي وظيفه مفيده حيث لا تظهر للمستخدم \n",
    "                                         #بانه ادخل قيمه نصيه بل سيستمر اللووب باستمرار بالطلب قيمه ل اكس\n",
    "            #                                                  )\n",
    "            # while True:\n",
    "            #     try:\n",
    "            #         return int(input(\"what's the value of x? \"))\n",
    "            #     except ValueError:\n",
    "            #         pass\n",
    "            #       (\n",
    "                  \n",
    "\n",
    "        else:\n",
    "            return X#here we can but the return and delet the break  because ones the loop rerurn a value it will stop without break\n",
    "def main():\n",
    "    x=set_value()\n",
    "    print(x)\n",
    "\n",
    "\n",
    "main()         "
   ]
  },
  {
   "cell_type": "code",
   "execution_count": null,
   "id": "6dc6a44b",
   "metadata": {},
   "outputs": [],
   "source": [
    "def main():\n",
    "    height=int(input('what is the hight'))\n",
    "    the_height(height)\n",
    "def the_height(height):\n",
    "    for i in range(height):\n",
    "        print('#' * (i + 1))\n",
    "if __name__ == '__main__' :\n",
    "    main()\n"
   ]
  },
  {
   "cell_type": "markdown",
   "id": "215a61c2",
   "metadata": {},
   "source": [
    "### modules\n",
    "###### we can make our library or use the library that made by some one\n",
    "###### like random\n",
    "###### هنا راح تختصرلك وقت هذه المكاتب بدلا من كتابه كودات معقده لعمل لعبه خاصه لقلب العمله يمكنك فقط استعمال \n",
    "###### ramdom\n",
    "###### docs.python.org/3/library/random.html\n",
    "###### لو ذهبنا الى مستندات بايثون الاصليه \n",
    "###### ولكي نستدعي هذه وحده نمطيه نقوم باستعمال\n",
    "###### import\n",
    "###### ex/ random.choice(seq)\n",
    "###### وهنا اخذنا  هذه الوظيفه من المستندات \n"
   ]
  },
  {
   "cell_type": "code",
   "execution_count": null,
   "id": "11fc8a4c",
   "metadata": {},
   "outputs": [],
   "source": [
    "import random\n",
    "\n",
    "coin = random.choice([\"heads\", \"tails\"])\n",
    "print(coin)"
   ]
  },
  {
   "cell_type": "markdown",
   "id": "ef9eb607",
   "metadata": {},
   "source": [
    "# (from) \n",
    "##### :- we can use this key wourld in python in modules "
   ]
  },
  {
   "cell_type": "code",
   "execution_count": null,
   "id": "714349a4",
   "metadata": {},
   "outputs": [],
   "source": [
    "from random import choice\n",
    "coin = choice([\"heads\", \"tails\"])\n",
    "print(coin)"
   ]
  },
  {
   "cell_type": "markdown",
   "id": "e95ff802",
   "metadata": {},
   "source": [
    "# random.randint(a, b)\n",
    "و هذه هي ثاني وظيفه لدينا اذا كنا نريد الطباعه من 1-10"
   ]
  },
  {
   "cell_type": "code",
   "execution_count": null,
   "id": "4e890b7a",
   "metadata": {},
   "outputs": [],
   "source": [
    "import random\n",
    "\n",
    "number = random.randint(1, 10)\n",
    "print(number)"
   ]
  },
  {
   "cell_type": "markdown",
   "id": "3ee3b15e",
   "metadata": {},
   "source": [
    "# random.shuffle(x)\n",
    "هنا يمكننا عمل خلط للاعداد \n",
    "و يجب ان نعطيها قائمه لكي تخلطها و يجب ان نتذكر هذا كله من المستندات"
   ]
  },
  {
   "cell_type": "code",
   "execution_count": null,
   "id": "0de6f59d",
   "metadata": {},
   "outputs": [],
   "source": [
    "import random\n",
    "cards = [\"joker\",\"queen\",\"king\"]\n",
    "random.shuffle(cards)\n",
    "for card in cards:\n",
    "    print(card)"
   ]
  },
  {
   "cell_type": "markdown",
   "id": "7eb794a3",
   "metadata": {},
   "source": [
    "# statistics python modules\n",
    "#### docs.python.org/3/library/statistics.html\n",
    " حيث سوف نرى مجموعه كامله من الوظائف واحداها هي ال\n",
    "# mean\n",
    "حيث سوف تعطينا النصف"
   ]
  },
  {
   "cell_type": "code",
   "execution_count": null,
   "id": "395ccf10",
   "metadata": {},
   "outputs": [],
   "source": [
    "import statistics\n",
    "print(statistics.mean([100, 90]))"
   ]
  },
  {
   "cell_type": "markdown",
   "id": "6a80ab9c",
   "metadata": {},
   "source": [
    "# `command-line arguments`\n",
    "terminalحيث نقوم بادخال القيم بواسطه ال \n",
    "###### argument \n",
    "## sys (system)\n",
    "docs.python.org/3/library/sys.html\n",
    "\n",
    "و هذا هو المستند الخاص بها\n",
    "## sys.argv (system.argument variable)\n",
    "انها تمثل ناقل للحجه و هي قائمه بجميع الكلمات التي كتبها الانسان\n"
   ]
  },
  {
   "cell_type": "code",
   "execution_count": null,
   "id": "12b53c85",
   "metadata": {},
   "outputs": [],
   "source": [
    "import sys\n",
    "print('hello, my name is', sys.argv[1])\n",
    "# .pyلتنفيذ هذا الكود يجب علي ان اعمل ملف خاص ينتهي ب \n",
    "#terminalو تكتب اسمك من خلال ال \n",
    "# python file_name.py your_name\n",
    "#printبعد كتابه الكود اعلاه سوف يخرج لك ال"
   ]
  },
  {
   "cell_type": "code",
   "execution_count": null,
   "id": "817ad864",
   "metadata": {},
   "outputs": [],
   "source": [
    "import sys\n",
    "try:\n",
    "    print('hello, my name is', sys.argv[1])\n",
    "except IndexError:#python file_name.pyحيث اذا قام المستخدم بعمل \n",
    "                  # terminalفي ال \n",
    "                  #بدون ان يكتب اسمه سوف تظهر له رساله بدلا من تحذير \n",
    "    print('too many argument')\n",
    "\n"
   ]
  },
  {
   "cell_type": "code",
   "execution_count": null,
   "id": "d5463298",
   "metadata": {},
   "outputs": [],
   "source": [
    "import sys \n",
    "if len(sys.argv)<2:\n",
    "    print('too few argument')\n",
    "elif len(sys.argv)>2:\n",
    "    print('too many argument')\n",
    "else:#نستطيع ان نستغني عنها و نكتب الطباعه فقط\n",
    "        # import sys \n",
    "        # if len(sys.argv)<2:\n",
    "        #     print('too few argument')\n",
    "        # elif len(sys.argv)>2:\n",
    "        #     print('too many argument')\n",
    "        #\n",
    "        #print(\"hello,my name is \", sys.argv[1])\n",
    "        #الان الكود ليس كاملا في الملاحظه القادمه سنشرح النقوصات\n",
    "    print(\"hello,my name is \", sys.argv[1])\n",
    "\n",
    "\n",
    "\n",
    "#terminalولا ننسى بان هذا كله يمكنني تجربته في ال\n",
    "#tring_sys.pyو تستطيع تجربتها في الفايل "
   ]
  },
  {
   "cell_type": "markdown",
   "id": "de65ce7e",
   "metadata": {},
   "source": [
    "# `sys.exit`\n",
    "بدلا من كتابه\n",
    "###### print('too many argument or too few argument')\n",
    "نستبدلها ب\n",
    "###### sys.exit('too many argument or too few argument')\n",
    "حيث سوف يخرج مباشره بعد ان يتحقق الشرط"
   ]
  },
  {
   "cell_type": "code",
   "execution_count": null,
   "id": "ef124d1a",
   "metadata": {},
   "outputs": [],
   "source": [
    "import sys \n",
    "if len(sys.argv)<2:\n",
    "    sys.exit('too few argument')\n",
    "elif len(sys.argv)>2:\n",
    "    sys.exit('too many argument')\n",
    "        \n",
    "print(\"hello,my name is \", sys.argv[1])"
   ]
  },
  {
   "cell_type": "markdown",
   "id": "9eead56c",
   "metadata": {},
   "source": [
    "# `slice` \n",
    "__في الكود القادم سنحتاجها لاننا سنقوم بطباعه جميع الاسماء التي نريدها و لا نريد الاول الذي يشمل اسم الفايل __"
   ]
  },
  {
   "cell_type": "code",
   "execution_count": null,
   "id": "92100fc1",
   "metadata": {},
   "outputs": [],
   "source": [
    "import sys \n",
    "if len(sys.argv)<2:\n",
    "    sys.exit('too few argument')\n",
    "for arg in sys.argv[1:]:# هنا قمنا بتجاهل اول اسم\n",
    "    print(\"hello,my name is \", arg)"
   ]
  },
  {
   "cell_type": "markdown",
   "id": "967eadb1",
   "metadata": {},
   "source": [
    "# `package` \n",
    ">مجموعه من المكاتب الجاهزه ويمكننا ان نرى قدراتها من خلال هذا الموقع\n",
    "# PYPI(python package index)\n",
    "> pypi.org\n",
    ">> packagesموقع خاص في ال \n",
    ">>> cowsayحيث يمكننا تنزيل مكتبه اسمها \n",
    ">>>> terminalحيث يمكننا تنزيلها في ال \n",
    ">>> pip install cowsayحيث نكتب \n",
    ">> anacanda promptولكن يجب ان نكون خارج ال كانكل الخاص ب كوماندا او تنزيلها من \n",
    "> حيث نستعمل نفس الرساله السابقه للتنزيل و هذه ال مكتبه \n",
    " ,التي ستنزلها سترسم لك بقره و معها ما تريد طباعته من الكلام\n",
    " كالاتي"
   ]
  },
  {
   "cell_type": "code",
   "execution_count": null,
   "id": "2962cf16",
   "metadata": {},
   "outputs": [],
   "source": [
    "import cowsay\n",
    "import sys\n",
    "\n",
    "if len(sys.argv) == 2:\n",
    "    cowsay.cow('hello, ' + sys.argv[1])\n"
   ]
  },
  {
   "cell_type": "code",
   "execution_count": null,
   "id": "889750e1",
   "metadata": {},
   "outputs": [],
   "source": [
    "import cowsay\n",
    "import sys\n",
    "\n",
    "if len(sys.argv) == 2:\n",
    "    cowsay.trex('hello, ' + sys.argv[1])"
   ]
  },
  {
   "cell_type": "markdown",
   "id": "577a8efb",
   "metadata": {},
   "source": [
    "# `package APIs requests` \n",
    "###### pipو يمكننا تنزيلها كذلك باستعمال \n",
    "###### و هي مكتبه خاصه للتطبيقات\n",
    "###### pypi.org/project/requests\n",
    "\n",
    "# docs.python.org/3/library/json.html\n",
    "###### هنا يمكننا جعله مرتب اكثر باستخدام ادوات هذه المكتبه ولا يحتاج ان نقوم بتنزيلها"
   ]
  },
  {
   "cell_type": "code",
   "execution_count": null,
   "id": "b32b98c2",
   "metadata": {},
   "outputs": [],
   "source": [
    "import requests\n",
    "import sys\n",
    "if len(sys.argv) != 2:\n",
    "    sys.exit()\n",
    "response = requests.get (\"https://itunes.apple.com/search?entity=song&limit=1&term=\" + sys.argv[1])\n",
    "print(requests.json())\n",
    "#terminal = محطه طرفيه\n",
    "# python file_name.py weezer\n",
    "# عند كتابه هذا الكود في المحطه الطرفيه ستظهر قائمه طويله تستعمل القواميس و الاقواس الخاصه ببايثون\n"
   ]
  },
  {
   "cell_type": "markdown",
   "id": "9b60c407",
   "metadata": {},
   "source": [
    " ***docs.python.org/3/library/json.html***\n",
    "\n",
    "\n",
    "هنا يمكننا جعله مرتب اكثر باستخدام ادوات هذه المكتبه ولا يحتاج ان نقوم بتنزيلها"
   ]
  },
  {
   "cell_type": "code",
   "execution_count": null,
   "id": "4d484057",
   "metadata": {},
   "outputs": [],
   "source": [
    "import requests\n",
    "import sys\n",
    "import json\n",
    "\n",
    "if len(sys.argv) != 2:\n",
    "    sys.exit()\n",
    "response = requests.get (\"https://itunes.apple.com/search?entity=song&limit=1&term=\" + sys.argv[1])\n",
    "print(json.dumps(response.json(), inden = 2))"
   ]
  },
  {
   "cell_type": "code",
   "execution_count": null,
   "id": "9eedd2b8",
   "metadata": {},
   "outputs": [],
   "source": [
    "import requests\n",
    "import sys\n",
    "import json\n",
    "\n",
    "if len(sys.argv) != 2:\n",
    "    sys.exit()\n",
    "response = requests.get (\"https://itunes.apple.com/search?entity=song&limit=1&term=\" + sys.argv[1])\n",
    "o = response.json()# o = object\n",
    "for result in o['results']:\n",
    "    print(result[\"trackName\"])\n",
    "\n",
    "#بكل اختصار نحن نتكلم عن المكتبه \n",
    "#json\n",
    "#و في اخر ثلالث كودات قمنا بالاطلاع عليها"
   ]
  },
  {
   "cell_type": "markdown",
   "id": "284c280a",
   "metadata": {},
   "source": [
    "#  `creat your own package` \n",
    "###### سوف نشرح بعض المشاكل التي قد نواجهها و كيفيه صنع الحزمه الخاصه بنا\n",
    "###### two filesسوف نحتاج الى \n",
    "###### الاول سوف نصنع به الحزمه و الثاني لاستخدامها\n",
    "###### make_packageالاول سيكون اسمه\n",
    "###### using_our_packageالثاني سيكون اسمه\n"
   ]
  },
  {
   "cell_type": "code",
   "execution_count": null,
   "id": "f77fa82f",
   "metadata": {},
   "outputs": [],
   "source": [
    "#make_package  (file)\n",
    "def hello(name):\n",
    "    print(\"hello, \", name)\n",
    "def goodbey(name):\n",
    "    print(\"goodbey, \", name)\n",
    "def main():\n",
    "    hello('would')\n",
    "    goodbey('wourld')\n",
    "\n",
    "if __name__ == '__main__':\n",
    "\n",
    "    main()#من الخطا استعمال هذه هنا عند صنع اي حزمه لانها سوف تسبب مشكله و تقوم بطباعه الوظائف التي بداخلها وليس \\\\\n",
    "      #الوظائف التي يريدها المستخدم"
   ]
  },
  {
   "cell_type": "code",
   "execution_count": null,
   "id": "d082f17e",
   "metadata": {},
   "outputs": [],
   "source": [
    "# usng_our_package   (file)\n",
    "import sys\n",
    "from make_package import hello\n",
    "\n",
    "if len(sys.argv) == 2:\n",
    "    hello(sys.argv[1])\n",
    "#هنا يجب ان تكتب اسمك في المحطه الطرفيه"
   ]
  },
  {
   "cell_type": "markdown",
   "id": "496dc1ea",
   "metadata": {},
   "source": [
    "# `PEP 8`\n",
    "###### وهو عباره عن مجتمع يحسن من كودك بشكل رهيب و يجعله قابل للقرائه و الصيانه\n",
    "\n",
    "\n",
    "# peps.python.org/pep-0008/\n",
    "###### يحاول توحيد طريقه كتابه ال كود حيث ان كل شركه و كل مصمم يحاول ان يجعل له اسلوب خاص بالبرمجه و مجتمع بايثون يحاول ان يوحد طريقه كتابه الكود\n",
    "\n",
    "###### 1-Indentation = المسافه\n",
    "###### 2-Tabs or Spaces?\n",
    "###### هنا يفضل المسافات و تكون اربعه مسافات \n",
    "###### 3-Maximum Line Length\n",
    "###### 4-Blank Lines\n",
    "###### 5-Imports"
   ]
  },
  {
   "cell_type": "markdown",
   "id": "d0bc7a4a",
   "metadata": {},
   "source": [
    "#### لو كنا نريد فحص كود معين سنشرح افضل طريقه لذلك مع شرح الطرق الاخرى و لماذا نتجنبها"
   ]
  },
  {
   "cell_type": "code",
   "execution_count": null,
   "id": "a0d648f7",
   "metadata": {},
   "outputs": [],
   "source": [
    "def main():\n",
    "    x = int(input('what is the value of x'))\n",
    "    print(\"x squard is \", square(x))\n",
    "\n",
    "  \n",
    " \n",
    "def square(n):\n",
    "    return n * n# الاختبارات في الكودات القادمه مبنيه على لو ان هذا السطر كان\n",
    "                #n + n\n",
    "if __name__ == \"__main__\":\n",
    "    main()"
   ]
  },
  {
   "cell_type": "code",
   "execution_count": null,
   "id": "2c1d4765",
   "metadata": {},
   "outputs": [],
   "source": [
    "from calculater import square \n",
    "\n",
    "def test_square():\n",
    "    if square(2) != 4:\n",
    "        print('2 square was not 4')\n",
    "    if square(3) != 9:\n",
    "        print('3 squared was not p')\n",
    "\n",
    "main()"
   ]
  },
  {
   "cell_type": "markdown",
   "id": "bca04848",
   "metadata": {},
   "source": [
    "***assert***\n",
    "\n",
    "***لو نلاحظ في الكود السابق استعملنا اربعه اسطر لعمل لفحص و عمل اختبار للكود و هنا ياتي دور هذه الوظيفه وهوه لعمل تاكيد ان شيئا ما صحيح واذا كان كذلك فلن يحصل اي شيء و لن تظهر لنا اي رساله خطا و اذا كان غير صحيح سوف نشاهد نوعا من الاخطاء على الشاشه***"
   ]
  },
  {
   "cell_type": "code",
   "execution_count": null,
   "id": "6d1bad13",
   "metadata": {},
   "outputs": [],
   "source": [
    "#assert\n",
    "from calculater import square \n",
    "\n",
    "def test_square():\n",
    "    assert square(2) == 4#هنا لو كان الناتج او الشرط غير صحيح فسوف تظهر لنا \n",
    "    assert square(3) == 9#assertionError\n",
    "\n",
    "main()"
   ]
  },
  {
   "cell_type": "markdown",
   "id": "c6c92b8a",
   "metadata": {},
   "source": [
    "***الحل الاولي لهذه المشكل***\n",
    "\n",
    "***try:يجب ان نستعمل الوظيفه***\n",
    "\n",
    "***except AssertionError:و معها***\n"
   ]
  },
  {
   "cell_type": "code",
   "execution_count": null,
   "id": "716df9f7",
   "metadata": {},
   "outputs": [],
   "source": [
    "from calculater import square \n",
    "\n",
    "def test_square():\n",
    "    try:\n",
    "        assert square(2) == 4#هنا لو كان الناتج او الشرط غير صحيح فسوف تظهر لنا \n",
    "    except AssertionError:\n",
    "        print('2 squared was not 4')\n",
    "    try:\n",
    "        assert square(3) == 9#assertionError\n",
    "    except AssertionError:\n",
    "        print('3 squared was not 9')\n",
    "    \n",
    "main()"
   ]
  },
  {
   "cell_type": "markdown",
   "id": "75ef96b1",
   "metadata": {},
   "source": [
    "***الحل النهائي***\n",
    "\n",
    "***لو نلاحظ اصبح الكود اول و اكثر تعقيدا بل لو اردنا اخذ احتمالات اكثر كان تكون القيمه سالبه او صفر سيصبح اطول و اطول و و ذلك كله لاجل اختبار سطرين من الكود حيث ان هنالك مجموعه من الناس قامو بانشاء برنامج سيساعدك اذا كنت تقوم بالعديد من الاختبار على الكود الخاص بك***\n",
    "\n",
    "***pytest = هو برنامج تابع لجهه خارجيه يمكنك تثبيته***"
   ]
  },
  {
   "cell_type": "code",
   "execution_count": null,
   "id": "1e7c0b27",
   "metadata": {},
   "outputs": [],
   "source": [
    "from calculater import square \n",
    "\n",
    "def test_square():\n",
    "    assert square(2) == 4#هنا لو كان الناتج او الشرط غير صحيح فسوف تظهر لنا \n",
    "    assert square(3) == 9#assertionError\n",
    "    assert square(-2) ==4\n",
    "    assert square(-3) ==9\n",
    "    assert square(0) ==0\n",
    "\n",
    "main()"
   ]
  },
  {
   "cell_type": "markdown",
   "id": "b6c986cc",
   "metadata": {},
   "source": [
    "***ملاحظه مهمه***\n",
    "\n",
    "***هنا سنحتاج المحطه الطرفيه لعمل اختبار حيث سوف نكتب الاتي***\n",
    "\n",
    "***pyteat file_name.py***"
   ]
  },
  {
   "cell_type": "code",
   "execution_count": null,
   "id": "29d77e33",
   "metadata": {},
   "outputs": [],
   "source": [
    "from calculater import square \n",
    "\n",
    "def test_positive():\n",
    "    assert square(2) == 4#هنا لو كان الناتج او الشرط غير صحيح فسوف تظهر لنا \n",
    "    assert square(3) == 9#assertionError\n",
    "\n",
    "\n",
    "def test_nedative():\n",
    "    assert square(-2) ==4\n",
    "    assert square(-3) ==9\n",
    "\n",
    "\n",
    "def test_zero():\n",
    "    assert square(0) ==0\n",
    "\n",
    "\n",
    "main()"
   ]
  },
  {
   "cell_type": "markdown",
   "id": "cf6341eb",
   "metadata": {},
   "source": [
    "***في الكود السابق زادت عدد الاخطاء و هنا بها فائده اكثر لمعرفه جميع الاخطاء التي من الممكن حدوثها***"
   ]
  },
  {
   "cell_type": "markdown",
   "id": "52860a9c",
   "metadata": {},
   "source": [
    "***و اذا قام المستخدم بادخال نصوص؟***"
   ]
  },
  {
   "cell_type": "code",
   "execution_count": null,
   "id": "acc16553",
   "metadata": {},
   "outputs": [],
   "source": [
    "from calculater import square \n",
    "from calculater import main\n",
    "import pytest\n",
    "\n",
    "def test_positive():\n",
    "    assert square(2) == 4#هنا لو كان الناتج او الشرط غير صحيح فسوف تظهر لنا \n",
    "    assert square(3) == 9#assertionError\n",
    "\n",
    "\n",
    "def test_nedative():\n",
    "    assert square(-2) ==4\n",
    "    assert square(-3) ==9\n",
    "\n",
    "\n",
    "def test_zero():\n",
    "    assert square(0) ==0\n",
    "\n",
    "\n",
    "def test_str():\n",
    "    with pytest.raises(TypeError):\n",
    "        square(\"cat\")\n",
    "\n",
    "\n",
    "main()"
   ]
  }
 ],
 "metadata": {
  "kernelspec": {
   "display_name": "Python (Anaconda Base)",
   "language": "python",
   "name": "base"
  },
  "language_info": {
   "codemirror_mode": {
    "name": "ipython",
    "version": 3
   },
   "file_extension": ".py",
   "mimetype": "text/x-python",
   "name": "python",
   "nbconvert_exporter": "python",
   "pygments_lexer": "ipython3",
   "version": "3.13.5"
  }
 },
 "nbformat": 4,
 "nbformat_minor": 5
}
