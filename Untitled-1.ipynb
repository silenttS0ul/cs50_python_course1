{
 "cells": [
  {
   "cell_type": "code",
   "execution_count": 23,
   "id": "d2a44bce",
   "metadata": {},
   "outputs": [],
   "source": [
    "import ipytest\n",
    "ipytest.autoconfig()"
   ]
  },
  {
   "cell_type": "code",
   "execution_count": 24,
   "id": "20a0b945",
   "metadata": {},
   "outputs": [
    {
     "name": "stdout",
     "output_type": "stream",
     "text": [
      "2\n"
     ]
    }
   ],
   "source": [
    "while True:\n",
    "    try:\n",
    "        x=int(input(\"what's the value of x\"))\n",
    "\n",
    "    except ValueError: #    here we want to chack the input\n",
    "    \n",
    "        print('enter an inger value') #this is the massege that should show up when the user enterd a string \n",
    "                                        #value when we want an int\n",
    "\n",
    "    else:                             \n",
    "        print(x)\n",
    "        break  \n",
    "\n",
    "   \n",
    "\n",
    "\n"
   ]
  },
  {
   "cell_type": "code",
   "execution_count": null,
   "id": "a42bc183",
   "metadata": {},
   "outputs": [],
   "source": [
    "def set_value(): # this is the function that we want to creat\n",
    "\n",
    "    while True: # this loop will always be true\n",
    "    \n",
    "        try: # this function to fint the error in the input\n",
    "        \n",
    "            X=int(input(\"what's the value of x? \")) #here we ask the user to enter an int value\n",
    "            \n",
    "            \n",
    "        #                                                                             )\n",
    "        #         هنا نستطيع بدلا من كتابه هذا الكود و لعمل كود اصغر سوف نكتب هذا\n",
    "           \n",
    "        #     return int(input(\"what's the value of x? \"))\n",
    "        #     except ValueError:\n",
    "        #     print('enter an inger value')\n",
    "\n",
    "        #     و الان قمنا بعمل نفس النتيجه بكود اصغر\n",
    "\n",
    "        #   (\n",
    "          \n",
    "        \n",
    "        except ValueError:\n",
    "            print('enter an inger value') # here we can use pass : وهي وظيفه مفيده حيث لا تظهر للمستخدم \n",
    "                                         #بانه ادخل قيمه نصيه بل سيستمر اللووب باستمرار بالطلب قيمه ل اكس\n",
    "            #                                                  )\n",
    "            # while True:\n",
    "            #     try:\n",
    "            #         return int(input(\"what's the value of x? \"))\n",
    "            #     except ValueError:\n",
    "            #         pass\n",
    "            #       (\n",
    "                  \n",
    "\n",
    "        else:\n",
    "            return X#here we can but the return and delet the break  because ones the loop rerurn a value it will stop without break\n",
    "def main():\n",
    "    x=set_value()\n",
    "    print(x)\n",
    "\n",
    "\n",
    "main()         "
   ]
  },
  {
   "cell_type": "code",
   "execution_count": null,
   "id": "6dc6a44b",
   "metadata": {},
   "outputs": [],
   "source": [
    "def main():\n",
    "    height=int(input('what is the hight'))\n",
    "    the_height(height)\n",
    "def the_height(height):\n",
    "    for i in range(height):\n",
    "        print('#' * (i + 1))\n",
    "if __name__ == '__main__' :\n",
    "    main()\n"
   ]
  },
  {
   "cell_type": "markdown",
   "id": "215a61c2",
   "metadata": {},
   "source": [
    "### modules\n",
    "###### we can make our library or use the library that made by some one\n",
    "###### like random\n",
    "###### هنا راح تختصرلك وقت هذه المكاتب بدلا من كتابه كودات معقده لعمل لعبه خاصه لقلب العمله يمكنك فقط استعمال \n",
    "###### ramdom\n",
    "###### docs.python.org/3/library/random.html\n",
    "###### لو ذهبنا الى مستندات بايثون الاصليه \n",
    "###### ولكي نستدعي هذه وحده نمطيه نقوم باستعمال\n",
    "###### import\n",
    "###### ex/ random.choice(seq)\n",
    "###### وهنا اخذنا  هذه الوظيفه من المستندات \n"
   ]
  },
  {
   "cell_type": "code",
   "execution_count": null,
   "id": "11fc8a4c",
   "metadata": {},
   "outputs": [],
   "source": [
    "import random\n",
    "\n",
    "coin = random.choice([\"heads\", \"tails\"])\n",
    "print(coin)"
   ]
  },
  {
   "cell_type": "markdown",
   "id": "ef9eb607",
   "metadata": {},
   "source": [
    "# (from) \n",
    "##### :- we can use this key wourld in python in modules "
   ]
  },
  {
   "cell_type": "code",
   "execution_count": null,
   "id": "714349a4",
   "metadata": {},
   "outputs": [],
   "source": [
    "from random import choice\n",
    "coin = choice([\"heads\", \"tails\"])\n",
    "print(coin)"
   ]
  },
  {
   "cell_type": "markdown",
   "id": "e95ff802",
   "metadata": {},
   "source": [
    "# random.randint(a, b)\n",
    "و هذه هي ثاني وظيفه لدينا اذا كنا نريد الطباعه من 1-10"
   ]
  },
  {
   "cell_type": "code",
   "execution_count": null,
   "id": "4e890b7a",
   "metadata": {},
   "outputs": [],
   "source": [
    "import random\n",
    "\n",
    "number = random.randint(1, 10)\n",
    "print(number)"
   ]
  },
  {
   "cell_type": "markdown",
   "id": "3ee3b15e",
   "metadata": {},
   "source": [
    "# random.shuffle(x)\n",
    "هنا يمكننا عمل خلط للاعداد \n",
    "و يجب ان نعطيها قائمه لكي تخلطها و يجب ان نتذكر هذا كله من المستندات"
   ]
  },
  {
   "cell_type": "code",
   "execution_count": null,
   "id": "0de6f59d",
   "metadata": {},
   "outputs": [],
   "source": [
    "import random\n",
    "cards = [\"joker\",\"queen\",\"king\"]\n",
    "random.shuffle(cards)\n",
    "for card in cards:\n",
    "    print(card)"
   ]
  },
  {
   "cell_type": "markdown",
   "id": "7eb794a3",
   "metadata": {},
   "source": [
    "# statistics python modules\n",
    "#### docs.python.org/3/library/statistics.html\n",
    " حيث سوف نرى مجموعه كامله من الوظائف واحداها هي ال\n",
    "# mean\n",
    "حيث سوف تعطينا النصف"
   ]
  },
  {
   "cell_type": "code",
   "execution_count": null,
   "id": "395ccf10",
   "metadata": {},
   "outputs": [],
   "source": [
    "import statistics\n",
    "print(statistics.mean([100, 90]))"
   ]
  },
  {
   "cell_type": "markdown",
   "id": "6a80ab9c",
   "metadata": {},
   "source": [
    "# `command-line arguments`\n",
    "terminalحيث نقوم بادخال القيم بواسطه ال \n",
    "###### argument \n",
    "## sys (system)\n",
    "docs.python.org/3/library/sys.html\n",
    "\n",
    "و هذا هو المستند الخاص بها\n",
    "## sys.argv (system.argument variable)\n",
    "انها تمثل ناقل للحجه و هي قائمه بجميع الكلمات التي كتبها الانسان\n"
   ]
  },
  {
   "cell_type": "code",
   "execution_count": null,
   "id": "12b53c85",
   "metadata": {},
   "outputs": [],
   "source": [
    "import sys\n",
    "print('hello, my name is', sys.argv[1])\n",
    "# .pyلتنفيذ هذا الكود يجب علي ان اعمل ملف خاص ينتهي ب \n",
    "#terminalو تكتب اسمك من خلال ال \n",
    "# python file_name.py your_name\n",
    "#printبعد كتابه الكود اعلاه سوف يخرج لك ال"
   ]
  },
  {
   "cell_type": "code",
   "execution_count": null,
   "id": "817ad864",
   "metadata": {},
   "outputs": [],
   "source": [
    "import sys\n",
    "try:\n",
    "    print('hello, my name is', sys.argv[1])\n",
    "except IndexError:#python file_name.pyحيث اذا قام المستخدم بعمل \n",
    "                  # terminalفي ال \n",
    "                  #بدون ان يكتب اسمه سوف تظهر له رساله بدلا من تحذير \n",
    "    print('too many argument')\n",
    "\n"
   ]
  },
  {
   "cell_type": "code",
   "execution_count": null,
   "id": "d5463298",
   "metadata": {},
   "outputs": [],
   "source": [
    "import sys \n",
    "if len(sys.argv)<2:\n",
    "    print('too few argument')\n",
    "elif len(sys.argv)>2:\n",
    "    print('too many argument')\n",
    "else:#نستطيع ان نستغني عنها و نكتب الطباعه فقط\n",
    "        # import sys \n",
    "        # if len(sys.argv)<2:\n",
    "        #     print('too few argument')\n",
    "        # elif len(sys.argv)>2:\n",
    "        #     print('too many argument')\n",
    "        #\n",
    "        #print(\"hello,my name is \", sys.argv[1])\n",
    "        #الان الكود ليس كاملا في الملاحظه القادمه سنشرح النقوصات\n",
    "    print(\"hello,my name is \", sys.argv[1])\n",
    "\n",
    "\n",
    "\n",
    "#terminalولا ننسى بان هذا كله يمكنني تجربته في ال\n",
    "#tring_sys.pyو تستطيع تجربتها في الفايل "
   ]
  },
  {
   "cell_type": "markdown",
   "id": "de65ce7e",
   "metadata": {},
   "source": [
    "# `sys.exit`\n",
    "بدلا من كتابه\n",
    "###### print('too many argument or too few argument')\n",
    "نستبدلها ب\n",
    "###### sys.exit('too many argument or too few argument')\n",
    "حيث سوف يخرج مباشره بعد ان يتحقق الشرط"
   ]
  },
  {
   "cell_type": "code",
   "execution_count": null,
   "id": "ef124d1a",
   "metadata": {},
   "outputs": [],
   "source": [
    "import sys \n",
    "if len(sys.argv)<2:\n",
    "    sys.exit('too few argument')\n",
    "elif len(sys.argv)>2:\n",
    "    sys.exit('too many argument')\n",
    "        \n",
    "print(\"hello,my name is \", sys.argv[1])"
   ]
  },
  {
   "cell_type": "markdown",
   "id": "9eead56c",
   "metadata": {},
   "source": [
    "# `slice` \n",
    "__في الكود القادم سنحتاجها لاننا سنقوم بطباعه جميع الاسماء التي نريدها و لا نريد الاول الذي يشمل اسم الفايل __"
   ]
  },
  {
   "cell_type": "code",
   "execution_count": null,
   "id": "92100fc1",
   "metadata": {},
   "outputs": [],
   "source": [
    "import sys \n",
    "if len(sys.argv)<2:\n",
    "    sys.exit('too few argument')\n",
    "for arg in sys.argv[1:]:# هنا قمنا بتجاهل اول اسم\n",
    "    print(\"hello,my name is \", arg)"
   ]
  },
  {
   "cell_type": "markdown",
   "id": "967eadb1",
   "metadata": {},
   "source": [
    "# `package` \n",
    ">مجموعه من المكاتب الجاهزه ويمكننا ان نرى قدراتها من خلال هذا الموقع\n",
    "# PYPI(python package index)\n",
    "> pypi.org\n",
    ">> packagesموقع خاص في ال \n",
    ">>> cowsayحيث يمكننا تنزيل مكتبه اسمها \n",
    ">>>> terminalحيث يمكننا تنزيلها في ال \n",
    ">>> pip install cowsayحيث نكتب \n",
    ">> anacanda promptولكن يجب ان نكون خارج ال كانكل الخاص ب كوماندا او تنزيلها من \n",
    "> حيث نستعمل نفس الرساله السابقه للتنزيل و هذه ال مكتبه \n",
    " ,التي ستنزلها سترسم لك بقره و معها ما تريد طباعته من الكلام\n",
    " كالاتي"
   ]
  },
  {
   "cell_type": "code",
   "execution_count": null,
   "id": "2962cf16",
   "metadata": {},
   "outputs": [],
   "source": [
    "import cowsay\n",
    "import sys\n",
    "\n",
    "if len(sys.argv) == 2:\n",
    "    cowsay.cow('hello, ' + sys.argv[1])\n"
   ]
  },
  {
   "cell_type": "code",
   "execution_count": null,
   "id": "889750e1",
   "metadata": {},
   "outputs": [],
   "source": [
    "import cowsay\n",
    "import sys\n",
    "\n",
    "if len(sys.argv) == 2:\n",
    "    cowsay.trex('hello, ' + sys.argv[1])"
   ]
  },
  {
   "cell_type": "markdown",
   "id": "577a8efb",
   "metadata": {},
   "source": [
    "# `package APIs requests` \n",
    "###### pipو يمكننا تنزيلها كذلك باستعمال \n",
    "###### و هي مكتبه خاصه للتطبيقات\n",
    "###### pypi.org/project/requests\n",
    "\n",
    "# docs.python.org/3/library/json.html\n",
    "###### هنا يمكننا جعله مرتب اكثر باستخدام ادوات هذه المكتبه ولا يحتاج ان نقوم بتنزيلها"
   ]
  },
  {
   "cell_type": "code",
   "execution_count": null,
   "id": "b32b98c2",
   "metadata": {},
   "outputs": [],
   "source": [
    "import requests\n",
    "import sys\n",
    "if len(sys.argv) != 2:\n",
    "    sys.exit()\n",
    "response = requests.get (\"https://itunes.apple.com/search?entity=song&limit=1&term=\" + sys.argv[1])\n",
    "print(requests.json())\n",
    "#terminal = محطه طرفيه\n",
    "# python file_name.py weezer\n",
    "# عند كتابه هذا الكود في المحطه الطرفيه ستظهر قائمه طويله تستعمل القواميس و الاقواس الخاصه ببايثون\n"
   ]
  },
  {
   "cell_type": "markdown",
   "id": "9b60c407",
   "metadata": {},
   "source": [
    " ***docs.python.org/3/library/json.html***\n",
    "\n",
    "\n",
    "هنا يمكننا جعله مرتب اكثر باستخدام ادوات هذه المكتبه ولا يحتاج ان نقوم بتنزيلها"
   ]
  },
  {
   "cell_type": "code",
   "execution_count": null,
   "id": "4d484057",
   "metadata": {},
   "outputs": [],
   "source": [
    "import requests\n",
    "import sys\n",
    "import json\n",
    "\n",
    "if len(sys.argv) != 2:\n",
    "    sys.exit()\n",
    "response = requests.get (\"https://itunes.apple.com/search?entity=song&limit=1&term=\" + sys.argv[1])\n",
    "print(json.dumps(response.json(), inden = 2))"
   ]
  },
  {
   "cell_type": "code",
   "execution_count": null,
   "id": "9eedd2b8",
   "metadata": {},
   "outputs": [],
   "source": [
    "import requests\n",
    "import sys\n",
    "import json\n",
    "\n",
    "if len(sys.argv) != 2:\n",
    "    sys.exit()\n",
    "response = requests.get (\"https://itunes.apple.com/search?entity=song&limit=1&term=\" + sys.argv[1])\n",
    "o = response.json()# o = object\n",
    "for result in o['results']:\n",
    "    print(result[\"trackName\"])\n",
    "\n",
    "#بكل اختصار نحن نتكلم عن المكتبه \n",
    "#json\n",
    "#و في اخر ثلالث كودات قمنا بالاطلاع عليها"
   ]
  },
  {
   "cell_type": "markdown",
   "id": "284c280a",
   "metadata": {},
   "source": [
    "#  `creat your own package` \n",
    "###### سوف نشرح بعض المشاكل التي قد نواجهها و كيفيه صنع الحزمه الخاصه بنا\n",
    "###### two filesسوف نحتاج الى \n",
    "###### الاول سوف نصنع به الحزمه و الثاني لاستخدامها\n",
    "###### make_packageالاول سيكون اسمه\n",
    "###### using_our_packageالثاني سيكون اسمه\n"
   ]
  },
  {
   "cell_type": "code",
   "execution_count": null,
   "id": "f77fa82f",
   "metadata": {},
   "outputs": [],
   "source": [
    "#make_package  (file)\n",
    "def hello(name):\n",
    "    print(\"hello, \", name)\n",
    "def goodbey(name):\n",
    "    print(\"goodbey, \", name)\n",
    "def main():\n",
    "    hello('would')\n",
    "    goodbey('wourld')\n",
    "\n",
    "if __name__ == '__main__':\n",
    "\n",
    "    main()#من الخطا استعمال هذه هنا عند صنع اي حزمه لانها سوف تسبب مشكله و تقوم بطباعه الوظائف التي بداخلها وليس \\\\\n",
    "      #الوظائف التي يريدها المستخدم"
   ]
  },
  {
   "cell_type": "code",
   "execution_count": null,
   "id": "d082f17e",
   "metadata": {},
   "outputs": [],
   "source": [
    "# usng_our_package   (file)\n",
    "import sys\n",
    "from make_package import hello\n",
    "\n",
    "if len(sys.argv) == 2:\n",
    "    hello(sys.argv[1])\n",
    "#هنا يجب ان تكتب اسمك في المحطه الطرفيه"
   ]
  },
  {
   "cell_type": "markdown",
   "id": "496dc1ea",
   "metadata": {},
   "source": [
    "___\n",
    "# `PEP 8`\n",
    "###### وهو عباره عن مجتمع يحسن من كودك بشكل رهيب و يجعله قابل للقرائه و الصيانه\n",
    "\n",
    "\n",
    "# peps.python.org/pep-0008/\n",
    "###### يحاول توحيد طريقه كتابه ال كود حيث ان كل شركه و كل مصمم يحاول ان يجعل له اسلوب خاص بالبرمجه و مجتمع بايثون يحاول ان يوحد طريقه كتابه الكود\n",
    "\n",
    "###### 1-Indentation = المسافه\n",
    "###### 2-Tabs or Spaces?\n",
    "###### هنا يفضل المسافات و تكون اربعه مسافات \n",
    "###### 3-Maximum Line Length\n",
    "###### 4-Blank Lines\n",
    "###### 5-Imports\n",
    "\n",
    "---"
   ]
  },
  {
   "cell_type": "markdown",
   "id": "d0bc7a4a",
   "metadata": {},
   "source": [
    "#### لو كنا نريد فحص كود معين سنشرح افضل طريقه لذلك مع شرح الطرق الاخرى و لماذا نتجنبها\n",
    "\n",
    "***سنقوم بشرح كيفيه فحص ال***\n",
    "\n",
    "***package***\n",
    "\n",
    "---"
   ]
  },
  {
   "cell_type": "code",
   "execution_count": null,
   "id": "a0d648f7",
   "metadata": {},
   "outputs": [
    {
     "name": "stdout",
     "output_type": "stream",
     "text": [
      "Writing calculater.py\n"
     ]
    }
   ],
   "source": [
    "%%writefile calculater.py \n",
    "# في السطر اعلاه قمنا بوضع اسم ملف للخليه حيث سوف يمكننا ان نستعملها كملف منفرد ونستدعي اي وظيفه نريدها\n",
    "def main():\n",
    "    x = int(input('what is the value of x'))\n",
    "    print(\"x squard is \", square(x))\n",
    "\n",
    "  \n",
    " \n",
    "def square(n):\n",
    "    return n + n # الاختبارات في الكودات القادمه مبنيه على لو ان هذا السطر كان\n",
    "                #n + n\n",
    "if __name__ == \"__main__\":\n",
    "    main()"
   ]
  },
  {
   "cell_type": "code",
   "execution_count": null,
   "id": "2c1d4765",
   "metadata": {},
   "outputs": [
    {
     "name": "stdout",
     "output_type": "stream",
     "text": [
      "Writing test_calculater.py\n"
     ]
    }
   ],
   "source": [
    "%%writefile test_calculater.py\n",
    "\n",
    "from calculater import square \n",
    "# هنا استطعنى استدعاء الوظيفه التي نريدها من الخليه السابقه\n",
    "def main():\n",
    "    test_square()\n",
    "\n",
    "def test_square():\n",
    "    if square(2) != 4:\n",
    "        print('2 square was not 4')\n",
    "    if square(3) != 9:\n",
    "        print('3 squared was not 9')\n",
    "\n",
    "if __name__ == \"__main__\":\n",
    "    main()\n",
    "\n"
   ]
  },
  {
   "cell_type": "code",
   "execution_count": null,
   "id": "0fbdd4ae",
   "metadata": {},
   "outputs": [
    {
     "name": "stdout",
     "output_type": "stream",
     "text": [
      "3 squared was not 9\n"
     ]
    }
   ],
   "source": [
    "!python test_calculater.py\n",
    "#we can use pytest(سوف نشرحها بعد قليل) and python when we need"
   ]
  },
  {
   "cell_type": "markdown",
   "id": "bca04848",
   "metadata": {},
   "source": [
    "***assert***\n",
    "\n",
    "***لو نلاحظ في الكود السابق استعملنا اربعه اسطر لعمل لفحص و عمل اختبار للكود و هنا ياتي دور هذه الوظيفه وهوه لعمل تاكيد ان شيئا ما صحيح واذا كان كذلك فلن يحصل اي شيء و لن تظهر لنا اي رساله خطا و اذا كان غير صحيح سوف نشاهد نوعا من الاخطاء على الشاشه***"
   ]
  },
  {
   "cell_type": "code",
   "execution_count": null,
   "id": "6d1bad13",
   "metadata": {},
   "outputs": [
    {
     "name": "stdout",
     "output_type": "stream",
     "text": [
      "Overwriting test_calculater.py\n"
     ]
    }
   ],
   "source": [
    "%%writefile test_calculater.py\n",
    "\n",
    "#assert\n",
    "\n",
    "from calculater import square \n",
    "\n",
    "def main():\n",
    "    test_square()\n",
    "\n",
    "def test_square():\n",
    "    assert square(2) == 4#هنا لو كان الناتج او الشرط غير صحيح فسوف تظهر لنا \n",
    "    assert square(3) == 9#assertionError if we have n + n in the calculate function\n",
    "\n",
    "if __name__ == \"__main__\":\n",
    "    main()"
   ]
  },
  {
   "cell_type": "code",
   "execution_count": null,
   "id": "90925e2a",
   "metadata": {},
   "outputs": [
    {
     "name": "stdout",
     "output_type": "stream",
     "text": [
      "\u001b[1m============================= test session starts =============================\u001b[0m\n",
      "platform win32 -- Python 3.12.3, pytest-8.4.1, pluggy-1.6.0\n",
      "rootdir: d:\\cs50_python_course1\n",
      "collected 1 item\n",
      "\n",
      "test_calculater.py \u001b[31mF\u001b[0m\u001b[31m                                                     [100%]\u001b[0m\n",
      "\n",
      "================================== FAILURES ===================================\n",
      "\u001b[31m\u001b[1m_________________________________ test_square _________________________________\u001b[0m\n",
      "\n",
      "    \u001b[0m\u001b[94mdef\u001b[39;49;00m\u001b[90m \u001b[39;49;00m\u001b[92mtest_square\u001b[39;49;00m():\u001b[90m\u001b[39;49;00m\n",
      "        \u001b[94massert\u001b[39;49;00m square(\u001b[94m2\u001b[39;49;00m) == \u001b[94m4\u001b[39;49;00m\u001b[90m#هنا لو كان الناتج او الشرط غير صحيح فسوف تظهر لنا\u001b[39;49;00m\u001b[90m\u001b[39;49;00m\n",
      ">       \u001b[94massert\u001b[39;49;00m square(\u001b[94m3\u001b[39;49;00m) == \u001b[94m9\u001b[39;49;00m\u001b[90m#assertionError if we have n + n in the calculate function\u001b[39;49;00m\u001b[90m\u001b[39;49;00m\n",
      "        ^^^^^^^^^^^^^^^^^^^^^\u001b[90m\u001b[39;49;00m\n",
      "\u001b[1m\u001b[31mE       assert 6 == 9\u001b[0m\n",
      "\u001b[1m\u001b[31mE        +  where 6 = square(3)\u001b[0m\n",
      "\n",
      "\u001b[1m\u001b[31mtest_calculater.py\u001b[0m:11: AssertionError\n",
      "\u001b[36m\u001b[1m=========================== short test summary info ===========================\u001b[0m\n",
      "\u001b[31mFAILED\u001b[0m test_calculater.py::\u001b[1mtest_square\u001b[0m - assert 6 == 9\n",
      "\u001b[31m============================== \u001b[31m\u001b[1m1 failed\u001b[0m\u001b[31m in 0.10s\u001b[0m\u001b[31m ==============================\u001b[0m\n"
     ]
    }
   ],
   "source": [
    "!pytest test_calculater.py\n",
    "#we can use pytest and python when we need"
   ]
  },
  {
   "cell_type": "markdown",
   "id": "d4539762",
   "metadata": {},
   "source": [
    "---"
   ]
  },
  {
   "cell_type": "markdown",
   "id": "c6c92b8a",
   "metadata": {},
   "source": [
    "\n",
    "***AssertionError سوف نلاحظ ظهور***\n",
    "\n",
    "***وبدلا من ظهور هذه المشكله للمستخدم سنقوم باستخدام***\n",
    "\n",
    "try() and except()\n",
    "\n",
    "***الان يمكننا ان نستثني خطاء التاكيد و ان اكتب للمستخدم رساله تحذيريه واضحه***\n",
    "\n",
    "***الحل الاولي لهذه المشكل***\n",
    "\n",
    "***try:يجب ان نستعمل الوظيفه***\n",
    "\n",
    "***except AssertionError:و معها***\n"
   ]
  },
  {
   "cell_type": "markdown",
   "id": "b827ca52",
   "metadata": {},
   "source": [
    "---"
   ]
  },
  {
   "cell_type": "code",
   "execution_count": null,
   "id": "716df9f7",
   "metadata": {},
   "outputs": [
    {
     "name": "stdout",
     "output_type": "stream",
     "text": [
      "Overwriting test_calculater.py\n"
     ]
    }
   ],
   "source": [
    "%%writefile test_calculater.py\n",
    "\n",
    "\n",
    "from calculater import square \n",
    "\n",
    "def main():\n",
    "    test_square()\n",
    "\n",
    "def test_square():\n",
    "    try:\n",
    "        assert square(2) == 4#هنا لو كان الناتج او الشرط غير صحيح فسوف تظهر لنا \n",
    "    except AssertionError:\n",
    "        print('2 squared was not 4')\n",
    "    try:\n",
    "        assert square(3) == 9#assertionError\n",
    "    except AssertionError:\n",
    "        print('3 squared was not 9')\n",
    "    try:\n",
    "        assert square(-2) == 4#assertionError\n",
    "    except AssertionError:\n",
    "        print('-2 squared was not 4')\n",
    "    try:\n",
    "        assert square(-3) == 9#assertionError\n",
    "    except AssertionError:\n",
    "        print('-3 squared was not 9')\n",
    "    try:\n",
    "        assert square(0) == 0#assertionError\n",
    "    except AssertionError:\n",
    "        print('0 squared was not 0')\n",
    "    \n",
    "main()"
   ]
  },
  {
   "cell_type": "code",
   "execution_count": null,
   "id": "d0f7c7e1",
   "metadata": {},
   "outputs": [
    {
     "name": "stdout",
     "output_type": "stream",
     "text": [
      "3 squared was not 9\n",
      "-2 squared was not 4\n",
      "-3 squared was not 9\n"
     ]
    }
   ],
   "source": [
    "!python test_calculater.py\n",
    "#we can use pytest and python when we need"
   ]
  },
  {
   "cell_type": "markdown",
   "id": "3f49f060",
   "metadata": {},
   "source": [
    "---"
   ]
  },
  {
   "cell_type": "markdown",
   "id": "75ef96b1",
   "metadata": {},
   "source": [
    "***الحل النهائي***\n",
    "\n",
    "***لو نلاحظ اصبح الكود اطول و اكثر تعقيدا بل لو اردنا اخذ احتمالات اكثر كان تكون القيمه سالبه او صفر سيصبح اطول و اطول و و ذلك كله لاجل اختبار سطرين من الكود حيث ان هنالك مجموعه من الناس قامو بانشاء برنامج سيساعدك اذا كنت تقوم بالعديد من الاختبار على الكود الخاص بك***\n",
    "\n",
    "***pytest = هو برنامج تابع لجهه خارجيه يمكنك تثبيته***\n",
    "\n",
    "***و هنالك شروط لاستخدامه حسب الاتفاقيات***\n",
    "\n",
    "***لازم تقوم بتسميه جميع الملفات التي ستستعمل بها هذه المكتبه بقواعد معينه وهي اضافه كلمه***\n",
    "\n",
    "***test_***\n",
    "\n",
    "***في بدايه كل اسم للفايل الذي تنوي بان تختبره***\n",
    "\n",
    "***و ثاني قاعده لدينا هي اذا كنت تريد انشاء اي وظيفه يجب ان يبدا اسم هذه الوضيفه بنفس الكلمه***\n",
    "\n",
    "***test_***\n",
    "\n",
    "---\n",
    "\n",
    "***`ساشرح هذا متاخرا قليلا و لكن يجب ان نفحص كل كود في الخليه و نحن نعرف لكي نعمل حزمه يجب ان نجعل ملف خاص بالكود الذي نريد ان نختبره و ملف اخر وظيفته هو اختبار هذا الكود و لكي نجعل اي خليه نريدها تمثل ملفا كاملا له اسم يمكننا استدعاء اي وظيفه منه سوف نستعمل الكود التالي*`***\n",
    "\n",
    "***خليه رقم 1***\n",
    "\n",
    "***%%writefile file_name.py***\n",
    "\n",
    "***خليه رقم 2***\n",
    "\n",
    "***%%writefile test_file_name.py***\n",
    "\n",
    "***الان نستطيع ان نستدعي اي وظيفه من الخليه الاولى كالتالي***\n",
    "\n",
    "***from file_name import function مثلا***\n",
    "\n",
    "***خليه رقم 3***\n",
    "\n",
    "***هنا بعد ان اكملنا الخليه الاولى و الثانيه سنقوم بانشاء خليه اخيره لاستخدام***\n",
    "\n",
    "***pytest***\n",
    "\n",
    "***حيث سنكتب فيها الكود التالي***\n",
    "\n",
    "***!pytest test_file_name.py***\n",
    "\n",
    "***و هذا هو شرح للخلايا الذي سوف نحتاجه في الكودات القادمه***\n",
    "\n",
    "\n",
    "___\n",
    "\n",
    "***ودائما تستعمل مع***\n",
    "\n",
    "***assert***\n",
    "\n",
    "---\n",
    "\n",
    "***ويمكننا زياره الوثائقي الخاص ب***\n",
    "\n",
    "***pytest***\n",
    "\n",
    "***docs.pytest.org***\n"
   ]
  },
  {
   "cell_type": "markdown",
   "id": "7e06ce93",
   "metadata": {},
   "source": [
    "---"
   ]
  },
  {
   "cell_type": "code",
   "execution_count": null,
   "id": "2e4725af",
   "metadata": {},
   "outputs": [
    {
     "name": "stdout",
     "output_type": "stream",
     "text": [
      "Overwriting calculater.py\n"
     ]
    }
   ],
   "source": [
    "%%writefile calculater.py \n",
    "# في السطر اعلاه قمنا بوضع اسم ملف للخليه حيث سوف يمكننا ان نستعملها كملف منفرد ونستدعي اي وظيفه نريدها\n",
    "def main():\n",
    "    x = int(input('what is the value of x'))\n",
    "    print(\"x squard is \", square(x))\n",
    "\n",
    "  \n",
    " \n",
    "def square(n):\n",
    "    return n + n # pytestهذا هو الكود الخاطىء لنرى كيف \n",
    "                #تعطينى الاخطاء و الكود الصحيح هو\n",
    "                #n * n\n",
    "if __name__ == \"__main__\":\n",
    "    main()"
   ]
  },
  {
   "cell_type": "code",
   "execution_count": null,
   "id": "1e7c0b27",
   "metadata": {},
   "outputs": [
    {
     "name": "stdout",
     "output_type": "stream",
     "text": [
      "Overwriting test_calculater.py\n"
     ]
    }
   ],
   "source": [
    "%%writefile test_calculater.py\n",
    "\n",
    "from calculater import square \n",
    "\n",
    "def test_square():\n",
    "    assert square(2) == 4#هنا لو كان الناتج او الشرط غير صحيح فسوف تظهر لنا \n",
    "    assert square(3) == 9#assertionError\n",
    "    assert square(-2) ==4\n",
    "    assert square(-3) ==9\n",
    "    assert square(0) ==0\n",
    "# بدون\n",
    "# main()"
   ]
  },
  {
   "cell_type": "code",
   "execution_count": null,
   "id": "1d194ce1",
   "metadata": {},
   "outputs": [
    {
     "name": "stdout",
     "output_type": "stream",
     "text": [
      "\u001b[1m============================= test session starts =============================\u001b[0m\n",
      "platform win32 -- Python 3.12.3, pytest-8.4.1, pluggy-1.6.0\n",
      "rootdir: d:\\cs50_python_course1\n",
      "collected 1 item\n",
      "\n",
      "test_calculater.py \u001b[31mF\u001b[0m\u001b[31m                                                     [100%]\u001b[0m\n",
      "\n",
      "================================== FAILURES ===================================\n",
      "\u001b[31m\u001b[1m_________________________________ test_square _________________________________\u001b[0m\n",
      "\n",
      "    \u001b[0m\u001b[94mdef\u001b[39;49;00m\u001b[90m \u001b[39;49;00m\u001b[92mtest_square\u001b[39;49;00m():\u001b[90m\u001b[39;49;00m\n",
      "        \u001b[94massert\u001b[39;49;00m square(\u001b[94m2\u001b[39;49;00m) == \u001b[94m4\u001b[39;49;00m\u001b[90m#هنا لو كان الناتج او الشرط غير صحيح فسوف تظهر لنا\u001b[39;49;00m\u001b[90m\u001b[39;49;00m\n",
      ">       \u001b[94massert\u001b[39;49;00m square(\u001b[94m3\u001b[39;49;00m) == \u001b[94m9\u001b[39;49;00m\u001b[90m#assertionError\u001b[39;49;00m\u001b[90m\u001b[39;49;00m\n",
      "        ^^^^^^^^^^^^^^^^^^^^^\u001b[90m\u001b[39;49;00m\n",
      "\u001b[1m\u001b[31mE       assert 6 == 9\u001b[0m\n",
      "\u001b[1m\u001b[31mE        +  where 6 = square(3)\u001b[0m\n",
      "\n",
      "\u001b[1m\u001b[31mtest_calculater.py\u001b[0m:6: AssertionError\n",
      "\u001b[36m\u001b[1m=========================== short test summary info ===========================\u001b[0m\n",
      "\u001b[31mFAILED\u001b[0m test_calculater.py::\u001b[1mtest_square\u001b[0m - assert 6 == 9\n",
      "\u001b[31m============================== \u001b[31m\u001b[1m1 failed\u001b[0m\u001b[31m in 0.13s\u001b[0m\u001b[31m ==============================\u001b[0m\n"
     ]
    }
   ],
   "source": [
    "!pytest test_calculater.py\n"
   ]
  },
  {
   "cell_type": "markdown",
   "id": "b6c986cc",
   "metadata": {},
   "source": [
    "---\n",
    "\n",
    "***و هنا تظهر اهميت هذه الطريقه حيث بدلا من تجربه الكود و في كل مره تدخل انت قيمه لترى اذا كان هنالك خطاء او لا حيث يختصر الكثير من الوقت و عملي اكثر***\n",
    "\n",
    "---"
   ]
  },
  {
   "cell_type": "markdown",
   "id": "b8baa3cb",
   "metadata": {},
   "source": [
    "***في الكود اعلاه لو نلاحظ عن ظهور اول مشكله توقف و لم يفحص البقيه لذلك سنقوم بفصل كل جزء في الكود التالي***\n",
    "\n",
    "---"
   ]
  },
  {
   "cell_type": "code",
   "execution_count": null,
   "id": "29d77e33",
   "metadata": {},
   "outputs": [
    {
     "name": "stdout",
     "output_type": "stream",
     "text": [
      "Overwriting test_calculater.py\n"
     ]
    }
   ],
   "source": [
    "%%writefile test_calculater.py\n",
    "\n",
    "\n",
    "from calculater import square \n",
    "\n",
    "def test_positive():\n",
    "    assert square(2) == 4#هنا لو كان الناتج او الشرط غير صحيح فسوف تظهر لنا \n",
    "    assert square(3) == 9#assertionError\n",
    "\n",
    "\n",
    "def test_nedative():\n",
    "    assert square(-2) == 4\n",
    "    assert square(-3) == 9\n",
    "\n",
    "\n",
    "def test_zero():\n",
    "    assert square(0) == 0"
   ]
  },
  {
   "cell_type": "code",
   "execution_count": null,
   "id": "16e29b8b",
   "metadata": {},
   "outputs": [
    {
     "name": "stdout",
     "output_type": "stream",
     "text": [
      "\u001b[1m============================= test session starts =============================\u001b[0m\n",
      "platform win32 -- Python 3.12.3, pytest-8.4.1, pluggy-1.6.0\n",
      "rootdir: d:\\cs50_python_course1\n",
      "collected 3 items\n",
      "\n",
      "test_calculater.py \u001b[31mF\u001b[0m\u001b[31mF\u001b[0m\u001b[32m.\u001b[0m\u001b[31m                                                   [100%]\u001b[0m\n",
      "\n",
      "================================== FAILURES ===================================\n",
      "\u001b[31m\u001b[1m________________________________ test_positive ________________________________\u001b[0m\n",
      "\n",
      "    \u001b[0m\u001b[94mdef\u001b[39;49;00m\u001b[90m \u001b[39;49;00m\u001b[92mtest_positive\u001b[39;49;00m():\u001b[90m\u001b[39;49;00m\n",
      "        \u001b[94massert\u001b[39;49;00m square(\u001b[94m2\u001b[39;49;00m) == \u001b[94m4\u001b[39;49;00m\u001b[90m#هنا لو كان الناتج او الشرط غير صحيح فسوف تظهر لنا\u001b[39;49;00m\u001b[90m\u001b[39;49;00m\n",
      ">       \u001b[94massert\u001b[39;49;00m square(\u001b[94m3\u001b[39;49;00m) == \u001b[94m9\u001b[39;49;00m\u001b[90m#assertionError\u001b[39;49;00m\u001b[90m\u001b[39;49;00m\n",
      "        ^^^^^^^^^^^^^^^^^^^^^\u001b[90m\u001b[39;49;00m\n",
      "\u001b[1m\u001b[31mE       assert 6 == 9\u001b[0m\n",
      "\u001b[1m\u001b[31mE        +  where 6 = square(3)\u001b[0m\n",
      "\n",
      "\u001b[1m\u001b[31mtest_calculater.py\u001b[0m:7: AssertionError\n",
      "\u001b[31m\u001b[1m________________________________ test_nedative ________________________________\u001b[0m\n",
      "\n",
      "    \u001b[0m\u001b[94mdef\u001b[39;49;00m\u001b[90m \u001b[39;49;00m\u001b[92mtest_nedative\u001b[39;49;00m():\u001b[90m\u001b[39;49;00m\n",
      ">       \u001b[94massert\u001b[39;49;00m square(-\u001b[94m2\u001b[39;49;00m) == \u001b[94m4\u001b[39;49;00m\u001b[90m\u001b[39;49;00m\n",
      "\u001b[1m\u001b[31mE       assert -4 == 4\u001b[0m\n",
      "\u001b[1m\u001b[31mE        +  where -4 = square(-2)\u001b[0m\n",
      "\n",
      "\u001b[1m\u001b[31mtest_calculater.py\u001b[0m:11: AssertionError\n",
      "\u001b[36m\u001b[1m=========================== short test summary info ===========================\u001b[0m\n",
      "\u001b[31mFAILED\u001b[0m test_calculater.py::\u001b[1mtest_positive\u001b[0m - assert 6 == 9\n",
      "\u001b[31mFAILED\u001b[0m test_calculater.py::\u001b[1mtest_nedative\u001b[0m - assert -4 == 4\n",
      "\u001b[31m========================= \u001b[31m\u001b[1m2 failed\u001b[0m, \u001b[32m1 passed\u001b[0m\u001b[31m in 0.11s\u001b[0m\u001b[31m =========================\u001b[0m\n"
     ]
    }
   ],
   "source": [
    "!pytest test_calculater.py"
   ]
  },
  {
   "cell_type": "markdown",
   "id": "cf6341eb",
   "metadata": {},
   "source": [
    "***في الكود السابق زادت عدد الاخطاء و هنا بها فائده اكثر لمعرفه جميع الاخطاء التي من الممكن حدوثها***"
   ]
  },
  {
   "cell_type": "markdown",
   "id": "6cdb02b1",
   "metadata": {},
   "source": [
    "---"
   ]
  },
  {
   "cell_type": "markdown",
   "id": "52860a9c",
   "metadata": {},
   "source": [
    "***و اذا قام المستخدم بادخال نصوص؟***"
   ]
  },
  {
   "cell_type": "code",
   "execution_count": null,
   "id": "ae724843",
   "metadata": {},
   "outputs": [
    {
     "name": "stdout",
     "output_type": "stream",
     "text": [
      "Overwriting calculater.py\n"
     ]
    }
   ],
   "source": [
    "%%writefile calculater.py \n",
    "# في السطر اعلاه قمنا بوضع اسم ملف للخليه حيث سوف يمكننا ان نستعملها كملف منفرد ونستدعي اي وظيفه نريدها\n",
    "def main():\n",
    "    x = input('what is the value of x' )# لنفترض باننا نسينا تحويل المدخل الى عدد صحيح\n",
    "    print(\"x squard is \", square(x))\n",
    "\n",
    "  \n",
    " \n",
    "def square(n):\n",
    "    return n * n \n",
    "    \n",
    "if __name__ == \"__main__\":\n",
    "    main()"
   ]
  },
  {
   "cell_type": "code",
   "execution_count": null,
   "id": "acc16553",
   "metadata": {},
   "outputs": [
    {
     "name": "stdout",
     "output_type": "stream",
     "text": [
      "Overwriting test_calculater.py\n"
     ]
    }
   ],
   "source": [
    "%%writefile test_calculater.py\n",
    "\n",
    "from calculater import square \n",
    "\n",
    "import pytest\n",
    "\n",
    "def test_positive():\n",
    "    assert square(2) == 4#هنا لو كان الناتج او الشرط غير صحيح فسوف تظهر لنا \n",
    "    assert square(3) == 9#assertionError\n",
    "\n",
    "\n",
    "def test_nedative():\n",
    "    assert square(-2) ==4\n",
    "    assert square(-3) ==9\n",
    "\n",
    "\n",
    "def test_zero():\n",
    "    assert square(0) ==0\n",
    "\n",
    "def test_str():\n",
    "    with pytest.raises(TypeError):\n",
    "        square(\"cat\")\n",
    "\n",
    "\n",
    "\n"
   ]
  },
  {
   "cell_type": "code",
   "execution_count": null,
   "id": "3714ec6a",
   "metadata": {},
   "outputs": [
    {
     "name": "stdout",
     "output_type": "stream",
     "text": [
      "\u001b[1m============================= test session starts =============================\u001b[0m\n",
      "platform win32 -- Python 3.12.3, pytest-8.4.1, pluggy-1.6.0\n",
      "rootdir: d:\\cs50_python_course1\n",
      "collected 4 items\n",
      "\n",
      "test_calculater.py \u001b[32m.\u001b[0m\u001b[32m.\u001b[0m\u001b[32m.\u001b[0m\u001b[32m.\u001b[0m\u001b[32m                                                  [100%]\u001b[0m\n",
      "\n",
      "\u001b[32m============================== \u001b[32m\u001b[1m4 passed\u001b[0m\u001b[32m in 0.03s\u001b[0m\u001b[32m ==============================\u001b[0m\n"
     ]
    }
   ],
   "source": [
    "!pytest test_calculater.py"
   ]
  },
  {
   "cell_type": "markdown",
   "id": "8843be0c",
   "metadata": {},
   "source": [
    "في الكود اعلاه شرحه مطول لو لم تتذكره ببساطه نحن استعملنا هذا الكود لنؤكد بان من الخطاء كتابه نصوص حيث اننا قد قمنا بتفحص ذلك سابقا و نعرف بانه يجب ان   نعالج موضوع النصوص و لكن نريد تفحص ذلك و اذا كنا على حق ف سينجح الكود الاخير و يعطينا \n",
    "\n",
    "\n",
    "***pass***\n",
    "\n",
    "---"
   ]
  },
  {
   "cell_type": "markdown",
   "id": "6e11b5e8",
   "metadata": {},
   "source": [
    "***مثال اخر لعمل الحزم***"
   ]
  },
  {
   "cell_type": "code",
   "execution_count": null,
   "id": "fbd6f340",
   "metadata": {},
   "outputs": [
    {
     "name": "stdout",
     "output_type": "stream",
     "text": [
      "Writing hello.py\n"
     ]
    }
   ],
   "source": [
    "%%writefile hello.py\n",
    "\n",
    "#our package\n",
    "def main():\n",
    "    name = input(\"what is your name? \")\n",
    "    hello(hello(name))\n",
    "\n",
    "def hello(to=\"world\"):\n",
    "    return f\"hello, {to}\"\n",
    "\n",
    "if __name__ == \"__main__\":\n",
    "    main()"
   ]
  },
  {
   "cell_type": "code",
   "execution_count": null,
   "id": "4f90cdda",
   "metadata": {},
   "outputs": [
    {
     "name": "stdout",
     "output_type": "stream",
     "text": [
      "Writing test_hello.py\n"
     ]
    }
   ],
   "source": [
    "%%writefile test_hello.py\n",
    "\n",
    "# test hello.py\n",
    "from hello import hello \n",
    "\n",
    "def test_default():\n",
    "    assert hello() == \"hello, world\"\n",
    "\n",
    "def test_argument():\n",
    "    assert hello(\"David\") == \"hello, David\"\n",
    "\n"
   ]
  },
  {
   "cell_type": "code",
   "execution_count": null,
   "id": "588d20e0",
   "metadata": {},
   "outputs": [
    {
     "name": "stdout",
     "output_type": "stream",
     "text": [
      "\u001b[1m============================= test session starts =============================\u001b[0m\n",
      "platform win32 -- Python 3.12.3, pytest-8.4.1, pluggy-1.6.0\n",
      "rootdir: d:\\cs50_python_course1\n",
      "collected 2 items\n",
      "\n",
      "test_hello.py \u001b[32m.\u001b[0m\u001b[32m.\u001b[0m\u001b[32m                                                         [100%]\u001b[0m\n",
      "\n",
      "\u001b[32m============================== \u001b[32m\u001b[1m2 passed\u001b[0m\u001b[32m in 0.04s\u001b[0m\u001b[32m ==============================\u001b[0m\n"
     ]
    }
   ],
   "source": [
    "!pytest test_hello.py"
   ]
  },
  {
   "cell_type": "markdown",
   "id": "71a5807d",
   "metadata": {},
   "source": [
    "***الكود ادناه من عندي تجربه فقط***"
   ]
  },
  {
   "cell_type": "code",
   "execution_count": null,
   "id": "a9b4997d",
   "metadata": {},
   "outputs": [
    {
     "name": "stdout",
     "output_type": "stream",
     "text": [
      "enter an inger value\n",
      "the square value is  4\n"
     ]
    }
   ],
   "source": [
    "def set_an_int():   \n",
    "    while True:\n",
    "        try:\n",
    "            x=int(input(\"what's the value of x\"))\n",
    "\n",
    "        except ValueError:\n",
    "        \n",
    "            print('enter an inger value')\n",
    "        else:                             \n",
    "            return x\n",
    "    \n",
    "def square(n):\n",
    "    return n * n\n",
    "\n",
    "def test_our_package(j):\n",
    "    if j % 2 == 0:\n",
    "        print(\"the square value is \", square(j))\n",
    "\n",
    "    else:\n",
    "        print(\"the square value is \", square(j))\n",
    "            \n",
    "def main():\n",
    "    x = set_an_int()\n",
    "    test_our_package(x)\n",
    "if __name__ == \"__main__\":\n",
    "    main()"
   ]
  },
  {
   "cell_type": "markdown",
   "id": "bf188728",
   "metadata": {},
   "source": [
    "`اخر ملاحظه لدينا و هي اننا نستطيع عمل مجلد كامل خاص لاختبار فايل معين حيث اننا نستطيع انشائه بعده طرق و يفضل ان نسميه`\n",
    "\n",
    "***tests***\n",
    "\n",
    "`و يجب ان نضع بداخله ملف اسمه`\n",
    "\n",
    "***__ init __.py***\n",
    "\n",
    "حيث توجد فاصلتين سفليتين بجانب ال\n",
    "\n",
    "***init***\n",
    "\n",
    "\n",
    "---"
   ]
  },
  {
   "cell_type": "markdown",
   "id": "1ec8ae45",
   "metadata": {},
   "source": [
    "***محاضره جديده***"
   ]
  },
  {
   "cell_type": "markdown",
   "id": "e57dc247",
   "metadata": {},
   "source": [
    "# File I/O\n",
    "### حيث لو نلاحظ الى الان عندما نكتب المعطيات لاي كود و يطبع لنا القيم فنحن هنا لا نقوم باي حفظ لهذه النواتج \n",
    "### بمجرد غلق المحطه الطرفيه سوف تذهب جميعها \n",
    "\n",
    "### out put باختصار شديد نحن نريد ان نقوم بعمل حفظ لل \n",
    "\n",
    "the list as we know it can include alot of elements.\n",
    "\n",
    "***حيث اننا نعرف جيدا بانها تخزن العديد من القيم و لسوء الحظ سوف تحفظ داخل ذاكره الكمبيوتر و التي ستذهب كلها بمجرد الخروج من المحطه الطرفيه***"
   ]
  },
  {
   "cell_type": "code",
   "execution_count": 110,
   "id": "167d4c33",
   "metadata": {},
   "outputs": [
    {
     "name": "stdout",
     "output_type": "stream",
     "text": [
      "Overwriting names.py\n"
     ]
    }
   ],
   "source": [
    "%%writefile names.py\n",
    "\n",
    "names =[] # قمنا بعمل مصفوفه فارغه لكي نستطيع ان نضيف عليها بعض القيم\n",
    "\n",
    "\n",
    "for _ in range(3):# الحصول على ثلاثه اسماء\n",
    "    names.append(input(\"what is your name? \"))# طلب الاسم\n",
    "\n",
    "    #OR\n",
    "\n",
    "    #name =input(\"what is your name? \")\n",
    "    #names.append(name)\n",
    "\n",
    "\n",
    "for name in sorted(names):\n",
    "    print(f\"hello, {name}\")"
   ]
  },
  {
   "cell_type": "markdown",
   "id": "7cc97a93",
   "metadata": {},
   "source": [
    "الان نعود لموضوعنا المهم حيث نريد حفظ ال\n",
    "\n",
    "***out put***\n",
    "\n",
    "***كالتالي سنبدا بتعريف جميع الادوات التي نحتاجها للقيام بذلك***\n",
    "\n",
    "\n",
    "open \n",
    "\n",
    "***وظيفتها الوحيده بالحياه هي ان تفتح ملف حيث تستطيع انت ك مبرمج من قراءه المعلومات منه او كتابه المعلومات عليه***\n",
    "\n",
    "***حيث الملف الذي سوف يتم انشائه انت الذي سوف تحدد ما سيتم قرائته و كتابته بداخل هذا الملف***\n",
    "\n",
    "***الوثائقي***\n",
    "\n",
    "***docs.python.org/3/library/function.html#open***\n",
    "\n",
    "***هن هذا الشرح التالي خلص بالخلايا حيث سوف نحتاج الى المحطه الطرفيه لنقوم باختبار اي كود نريده بالخليه اولا نضغ لهذه الخليه اسما حيث نستطيع استعمالها كملف و بعدها نكتب في المحطه الطرفيه***\n",
    "\n",
    "\n",
    "***python file_name***\n",
    "\n",
    "***و بعدها ستنتطيع رؤيه الملف الخاص ب ال***\n",
    "\n",
    "Open\n",
    "\n",
    "***و هنا تستطيع اختبار اي خليه بسهوله***"
   ]
  },
  {
   "cell_type": "code",
   "execution_count": 111,
   "id": "824f9c19",
   "metadata": {},
   "outputs": [
    {
     "name": "stdout",
     "output_type": "stream",
     "text": [
      "Overwriting names.py\n"
     ]
    }
   ],
   "source": [
    "%%writefile names.py\n",
    "\n",
    "name = input(\"what is your name? \")\n",
    "\n",
    "file = open(\"names.txt\", \"a\")#a= append اي اسم تكتبه سيتم حفظه #حيث اننا كلما شغلنا الكود و كتبنا اسم سيحفظه في الملف\n",
    "#file = open(\"names.txt\", \"w\") #w = write وهنا لن نستعملها لانها سوف تطبع لنا مره واحده\n",
    "\n",
    "#file.write(name)#تسمح لي بكتابه الاسم الى ال ملف\n",
    "               # outputحيث تعتبر هذه الاداه خطيره لانها في كل مره تعيد انشاء ال\n",
    "\n",
    "with open (\"names.txt\", \"a\") as file:# هنا استعملنا \n",
    "                                     # with\n",
    "                                     #closeحيث ستغنينا عن استعمال \n",
    "                                     #compilerحيث انها تخبر ال\n",
    "                                     #انه في هذا السياق اريدك ان تفتح و تغلق بعض الملفات تلقائيا\n",
    "                                    #as name-of-the-file\n",
    "                                    \n",
    "    file.write(f\"{name}\\n\")#  \\n لكي نعمل مسافات\n",
    "\n",
    "\n",
    "#file.close()# سوف ينهي الملف و يغلقه\n",
    "        #with :-في حال نسيت تغلقه جدا عادي حيث يمكننا استعمال الاداه\n",
    "         "
   ]
  },
  {
   "cell_type": "markdown",
   "id": "a47cfe24",
   "metadata": {},
   "source": [
    "في الكود التالي سنعرض كيفيه قرائه الملف بعد ان قمنا بانشائه حيث لو كان هنالك اي ملف في العالم يمكننا ان نرى ما بداخله"
   ]
  },
  {
   "cell_type": "code",
   "execution_count": 112,
   "id": "0f15b066",
   "metadata": {},
   "outputs": [
    {
     "name": "stdout",
     "output_type": "stream",
     "text": [
      "Overwriting names.txt\n"
     ]
    }
   ],
   "source": [
    "%%writefile names.txt\n",
    "Hermuone\n",
    "Harry\n",
    "Ron\n",
    "Draco\n"
   ]
  },
  {
   "cell_type": "code",
   "execution_count": 113,
   "id": "e61778d6",
   "metadata": {},
   "outputs": [
    {
     "name": "stdout",
     "output_type": "stream",
     "text": [
      "Overwriting names.py\n"
     ]
    }
   ],
   "source": [
    "%%writefile names.py\n",
    "\n",
    "\n",
    "with open(\"names.txt\", \"r\") as file:# r = read \n",
    "                                    #openحيث في هذا الكود نستطيع قرائه الملف بكتابه اسمه فقط لان الامر\n",
    "                                    # لانه في الوضع الافتراضي سيقوم بقرائه اي فايل داخله و يعطينا نصا كاملا دون اي تجزءه\n",
    "\n",
    "    lines = file.readlines()# linesيقرا جميع الاسطر و يقوم بتخزينها ب متغير اسمه \n",
    "\n",
    "for line in lines:\n",
    "    #print(\"hello,\", line)# سوف يقوم  باضافه سطر جديد لكل اسم\n",
    "    #print(\"hello,\", line, end = \"\")#هنا قد تم حل المشكله\n",
    "    # OR\n",
    "    print(\"hello,\", line.rstrip())#هنا قمنا بتجريد نهايه السطر من السطر الجديد الفعلي\n",
    "                                  #نفس النتيجه للطباعه الثانيه و لكن هذا الكود تصميمه اكثر احترافيه\n",
    "\n",
    "\n",
    "\n"
   ]
  },
  {
   "cell_type": "markdown",
   "id": "517522d2",
   "metadata": {},
   "source": [
    "في الكود السابق انا اقوم بقرائه الملف كله ثم امر على سطر تلو الاخر لطباعته حيث يمكننا ان نعمل ما هو افضل من ذلك في الكود القادم "
   ]
  },
  {
   "cell_type": "code",
   "execution_count": 114,
   "id": "ae5bce7f",
   "metadata": {},
   "outputs": [
    {
     "name": "stdout",
     "output_type": "stream",
     "text": [
      "Overwriting names.py\n"
     ]
    }
   ],
   "source": [
    "%%writefile names.py\n",
    "\n",
    "with open(\"names.txt\", \"r\") as file:# r = read\n",
    "    for line in file:\n",
    "        print('hello,', line.rstrip())\n",
    "\n",
    "#هذا الكود انيق و احترافي"
   ]
  },
  {
   "cell_type": "code",
   "execution_count": 115,
   "id": "b5bdbb39",
   "metadata": {},
   "outputs": [
    {
     "name": "stdout",
     "output_type": "stream",
     "text": [
      "Overwriting names.py\n"
     ]
    }
   ],
   "source": [
    "%%writefile names.py\n",
    "\n",
    "names = []\n",
    "\n",
    "with open(\"names.txt\") as file:\n",
    "    for line in file:\n",
    "        names.append(line.rstrip())\n",
    "        \n",
    "for name in sorted(names):# للترتيب حسب الاحرف الابجديه باللغه الانكليزيه\n",
    "    print(f\"hello, {name}\")\n",
    "\n",
    "#اكثر اناقه\n"
   ]
  },
  {
   "cell_type": "code",
   "execution_count": 116,
   "id": "53cc8c61",
   "metadata": {},
   "outputs": [
    {
     "name": "stdout",
     "output_type": "stream",
     "text": [
      "Overwriting names.py\n"
     ]
    }
   ],
   "source": [
    "%%writefile names.py\n",
    "\n",
    "with open(\"names.txt\", \"r\") as file:# r = read\n",
    "    for line in sorted(file):# بدلا من عمل لووب اخرى يمكننا ان نعمل\n",
    "        print('hello,', line.rstrip())\n",
    "\n",
    "#اكثر و اكثر اناقه من السابقه\n"
   ]
  },
  {
   "cell_type": "markdown",
   "id": "574c59d4",
   "metadata": {},
   "source": [
    "لاحظ بان العديد من الكودات السابقه نعرض عده طرق لكتابه الكود حيث كلها تقوم بنفس النتيجه لكن يمكننا فقط تحسن الكود اكثر\n",
    "\n",
    "و لكي لا تصبح الامور اكثر تعقيدا الكودات المميزه سارمز لها بكلمه اناقه و اذا كان هنال كود افضل و اضطررنا الى كتابه خليه ثالثه سنكتب الاكثر اناقه"
   ]
  },
  {
   "cell_type": "markdown",
   "id": "8ca7e887",
   "metadata": {},
   "source": [
    "و الان اذا كنا نريد ان نضع معلومات اكثر في الفايل الذي انشاناه للاسماء حيث نريد كل اسم و معه المنطقه التي يعيش فيها هذا الشخص \n",
    "\n",
    "1- ***names.txtيجب علينا تغيير اسم الملف من***\n",
    "\n",
    "   names.csvالى\n",
    "   \n",
    "2- سوف نكتب المحتويات كالتالي"
   ]
  },
  {
   "cell_type": "code",
   "execution_count": 117,
   "id": "61adfca6",
   "metadata": {},
   "outputs": [],
   "source": [
    "# Ahmed\n",
    "# baghdad\n",
    "# ali \n",
    "# canada\n",
    "# abdullah\n",
    "# egbt\n",
    "# , حيث بما انه لدينا زوج من المعلومات سنقوم بفصلهم بكل بساطه بواسطه \n",
    "#حيث لكي لا نخلط التفاح مع البرتقال حيث سنعمل عمودين عمود خاص بالاسم و الثاني باي شيء ثاني\n",
    "# csv و هنا سنبدا بان نسمي ملفاتنا ب \n",
    "#csv = comma-saparated values"
   ]
  },
  {
   "cell_type": "code",
   "execution_count": 138,
   "id": "02db1987",
   "metadata": {},
   "outputs": [
    {
     "name": "stdout",
     "output_type": "stream",
     "text": [
      "Overwriting students.csv\n"
     ]
    }
   ],
   "source": [
    "%%writefile students.csv\n",
    "Ali,Baghdad\n",
    "Layla,Riyadh\n",
    "Khaled,Dubai"
   ]
  },
  {
   "cell_type": "markdown",
   "id": "a91e8d84",
   "metadata": {},
   "source": [
    "لو نلاحظ هنالك اكثر من معلومه في السطر الواحد و نصحتاج الى فصلها الى قطعتين\n",
    "\n",
    "***split(\",\")***\n",
    "\n",
    "تاتي مع النصوص بالنسبه الى الفاصله التي تم كتابتها"
   ]
  },
  {
   "cell_type": "markdown",
   "id": "7623287e",
   "metadata": {},
   "source": [
    "و لقرائه هذا الملف سنقوم به كالتالي"
   ]
  },
  {
   "cell_type": "code",
   "execution_count": 139,
   "id": "ac5da1e4",
   "metadata": {},
   "outputs": [
    {
     "name": "stdout",
     "output_type": "stream",
     "text": [
      "Overwriting students.py\n"
     ]
    }
   ],
   "source": [
    "%%writefile students.py\n",
    "\n",
    "with open(\"students.csv\") as file:\n",
    "    for line in file:\n",
    "        row = line.rstrip().split(\",\")# حيث نحن نريد فصل كل كلمه عن الاخرى \n",
    "        print(f\"{row[0]} is in {row[1]}\")"
   ]
  },
  {
   "cell_type": "code",
   "execution_count": 140,
   "id": "21ded607",
   "metadata": {},
   "outputs": [
    {
     "name": "stdout",
     "output_type": "stream",
     "text": [
      "Overwriting students.py\n"
     ]
    }
   ],
   "source": [
    "%%writefile students.py\n",
    "\n",
    "with open(\"students.csv\") as file:\n",
    "    for line in file:\n",
    "        name, house = line.rstrip().split(\",\")\n",
    "        print(f\"{name} is in {house}\")\n",
    "\n",
    "    # حيث هنا قمنا بوضع متغيرين\n",
    "    # انيق"
   ]
  },
  {
   "cell_type": "markdown",
   "id": "8a4cd2f8",
   "metadata": {},
   "source": [
    "-:لو كنا نريد عمل ترتيب كالتالي"
   ]
  },
  {
   "cell_type": "code",
   "execution_count": 141,
   "id": "a274a4e5",
   "metadata": {},
   "outputs": [
    {
     "name": "stdout",
     "output_type": "stream",
     "text": [
      "Overwriting students.py\n"
     ]
    }
   ],
   "source": [
    "%%writefile students.py\n",
    "\n",
    "students = []\n",
    "\n",
    "with open(\"students.csv\") as file:\n",
    "    for line in file:\n",
    "        name, house = line.rstrip().split(\",\")\n",
    "        students.append(f\"{name} is in {house}\")\n",
    "\n",
    "for student in sorted(students):\n",
    "    print(student)\n",
    "    "
   ]
  },
  {
   "cell_type": "markdown",
   "id": "1f76265d",
   "metadata": {},
   "source": [
    "هذه الطريقه في الكود السابق تعتبر قذره\n",
    "حيث يبدو الامر غريبا بعض الشيء انني اقوم ببناء هذه الجمل وعلى الرغم من انني اريد التصنيف حسب الاسم\n",
    "#حيث تقنيا انا اقوم بفرز هذه الجمل الانكليزيه باكملها\n",
    "و هذا ليس خطاء حيث انه يحقق النتيجه المطلوبه و لكنه ليس مصمم بشكل جيد لانني محضوض باني اتعامل مع اللغه الانكليزيه\n",
    "حيث تتم القراءه من اليسار لليمين عكس بعض اللغات\n",
    " و بالتالي عند طباعتها سيتم فرزها بشكل صحيح لان اللغه المستخدمه هي الانكليزيه\n",
    "\n",
    "***لذلك يجب ان نتوصل الى طريقه لنطبع بها اسماء الطلاب و ليس بعض الجمل الانكليزيه***\n",
    "\n",
    "و لتحقيق ذلك يجب ان اجمع معلومات كل طالب\n",
    "\n",
    "و سوف نستعمل القواميس التي تشمل مفاتيح و قيم\n",
    "\n",
    "***dictionary={key:value}***\n",
    "\n",
    "حيث يمكنك ربط شيء بشيء اخر\n",
    "\n"
   ]
  },
  {
   "cell_type": "code",
   "execution_count": 142,
   "id": "39bf63e3",
   "metadata": {},
   "outputs": [
    {
     "name": "stdout",
     "output_type": "stream",
     "text": [
      "Overwriting students.py\n"
     ]
    }
   ],
   "source": [
    "%%writefile students.py\n",
    "\n",
    "students = []\n",
    "\n",
    "with open(\"students.csv\") as file:\n",
    "    for line in file:\n",
    "        name, house = line.rstrip().split(\",\")\n",
    "        student = {}# listمثل ال\n",
    "        #حيث قمنا بانشاء قاموس فارغ\n",
    "        student[\"name\"] = name\n",
    "        student[\"house\"] = house \n",
    "        students.append(student)# و الان حصلت على جميع المعلومات الخاصه بالطلبه مع الاحتفاظ بها\n",
    "\n",
    "for student in students:\n",
    "    print(f\"{student['name']} is in {student['house']}\")\n"
   ]
  },
  {
   "cell_type": "markdown",
   "id": "81f5c0bc",
   "metadata": {},
   "source": [
    "و لاختصار الكود اعلاه\n",
    "\n",
    "\n",
    "-:كالتالي"
   ]
  },
  {
   "cell_type": "code",
   "execution_count": 145,
   "id": "71fd19be",
   "metadata": {},
   "outputs": [
    {
     "name": "stdout",
     "output_type": "stream",
     "text": [
      "Overwriting students.py\n"
     ]
    }
   ],
   "source": [
    "%%writefile students.py\n",
    "\n",
    "students = []\n",
    "\n",
    "with open(\"students.csv\") as file:\n",
    "    for line in file:\n",
    "        name, house = line.rstrip().split(\",\")\n",
    "        student = {\"name\":name, \"house\": house}\n",
    "        students.append(student)\n",
    "\n",
    "for student in students:\n",
    "    print(f\"{student['name']} is in {student['house']}\")\n",
    "\n",
    "# انيق"
   ]
  },
  {
   "cell_type": "markdown",
   "id": "ef506e5c",
   "metadata": {},
   "source": [
    "sorted()و الان سوف نقوم بعمل \n",
    "\n",
    "و الان لدينا مصفوفه تحتوي على قواميس و داخل كل قاموس يوجد لدينا مفتاح و قيمه \n",
    "\n",
    "الن يكون من الجيد لو استطعنا ان نحصل على المفتاح لكل قاموس \n",
    "\n",
    "parameterنعم يمكننا ذلك سنحتاج الى\n",
    "\n",
    "key وهو "
   ]
  },
  {
   "cell_type": "code",
   "execution_count": 146,
   "id": "473ac14b",
   "metadata": {},
   "outputs": [
    {
     "name": "stdout",
     "output_type": "stream",
     "text": [
      "Overwriting students.py\n"
     ]
    }
   ],
   "source": [
    "%%writefile students.py\n",
    "\n",
    "students = []\n",
    "\n",
    "with open(\"students.csv\") as file:\n",
    "    for line in file:\n",
    "        name, house = line.rstrip().split(\",\")\n",
    "        student = {\"name\":name, \"house\": house}\n",
    "        students.append(student)\n",
    "\n",
    "def get_names(student):# وظيفتها هي اعطائنا الاسم\n",
    "    return student[\"name\"]\n",
    "\n",
    "for student in sorted(students, key=get_names):# key parameterو هنا استعملنا الوظيفه التي قمنا بعملها و وضعناها مع ال\n",
    "    print(f\"{student['name']} is in {student['house']}\")"
   ]
  },
  {
   "cell_type": "markdown",
   "id": "1ec7425b",
   "metadata": {},
   "source": [
    "الكود ادناه نفس الكود السابق و لكت غيرنا اسم الوضيفه و مع ذلك حصلنا على نفس النتائج"
   ]
  },
  {
   "cell_type": "code",
   "execution_count": 147,
   "id": "fb9d2db8",
   "metadata": {},
   "outputs": [
    {
     "name": "stdout",
     "output_type": "stream",
     "text": [
      "Overwriting students.py\n"
     ]
    }
   ],
   "source": [
    "%%writefile students.py\n",
    "\n",
    "students = []\n",
    "\n",
    "with open(\"students.csv\") as file:\n",
    "    for line in file:\n",
    "        name, house = line.rstrip().split(\",\")\n",
    "        student = {\"name\":name, \"house\": house}\n",
    "        students.append(student)\n",
    "\n",
    "def get_house(student):# وظيفتها هي اعطائنا الاسم\n",
    "    return student[\"house\"]\n",
    "\n",
    "for student in sorted(students, key=get_house):# key parameterو هنا استعملنا الوظيفه التي قمنا بعملها و وضعناها مع ال\n",
    "    print(f\"{student['name']} is in {student['house']}\")"
   ]
  },
  {
   "cell_type": "markdown",
   "id": "18c7ffa3",
   "metadata": {},
   "source": [
    "lambdaساقوم بشرح \n",
    "\n",
    "-:في الكود التالي"
   ]
  },
  {
   "cell_type": "code",
   "execution_count": 148,
   "id": "14f31f24",
   "metadata": {},
   "outputs": [
    {
     "name": "stdout",
     "output_type": "stream",
     "text": [
      "Overwriting students.py\n"
     ]
    }
   ],
   "source": [
    "%%writefile students.py\n",
    "\n",
    "students = []\n",
    "\n",
    "with open(\"students.csv\") as file:\n",
    "    for line in file:\n",
    "        name, house = line.rstrip().split(\",\")\n",
    "        student = {\"name\":name, \"house\": house}\n",
    "        students.append(student)\n",
    "\n",
    "for student in sorted(students, key=lambda student: student[\"name\"]):\n",
    "    print(f\"{student['name']} is in {student['house']}\")\n",
    "\n",
    "#اكثر اناقه"
   ]
  },
  {
   "cell_type": "markdown",
   "id": "7246f02c",
   "metadata": {},
   "source": [
    "lambdaحيث ان \n",
    "\n",
    "هنا سوف تقوم باخبار بايثون ان القادم هة وظيفه من دون اسم و يمكننا ان نكتب لها صيغه كالتالي\n",
    "\n",
    "sorted(القائمة, key=lambda parameterالمتغير: (التعبير))\n",
    "\n",
    "\n",
    "lambda + the parameter: + الذي نريد عمل فرز له\n",
    "\n",
    "---\n"
   ]
  },
  {
   "cell_type": "markdown",
   "id": "92b8c031",
   "metadata": {},
   "source": [
    "---"
   ]
  },
  {
   "cell_type": "code",
   "execution_count": 166,
   "id": "97b352aa",
   "metadata": {},
   "outputs": [
    {
     "name": "stdout",
     "output_type": "stream",
     "text": [
      "Overwriting students.csv\n"
     ]
    }
   ],
   "source": [
    "%%writefile students.csv\n",
    "Harry,\"Number four, Prinvt Drive\"\n",
    "Ron,The Burrow\n",
    "Draco,Malfoy Manor"
   ]
  },
  {
   "cell_type": "markdown",
   "id": "6a667f81",
   "metadata": {},
   "source": [
    "اعلاه قمنا بكتابه مكان اقامه كل شخصيه ولو قمنا باستعمال الكود ادناه ف سوف نحصل على خطاء و السبب هو في اول سطر من الملف الجديد حيث يحوي على ثلاثه عناصر "
   ]
  },
  {
   "cell_type": "code",
   "execution_count": 167,
   "id": "0488b8fa",
   "metadata": {},
   "outputs": [
    {
     "name": "stdout",
     "output_type": "stream",
     "text": [
      "Overwriting students.py\n"
     ]
    }
   ],
   "source": [
    "%%writefile students.py\n",
    "\n",
    "students = []\n",
    "\n",
    "with open(\"students.csv\") as file:\n",
    "    for line in file:\n",
    "        name, house = line.rstrip().split(\",\")\n",
    "        student = {\"name\":name, \"house\":house}\n",
    "        students.append(student)\n",
    "\n",
    "for student in sorted(students, key=lambda student: student[\"name\"]):\n",
    "    print(f\"{student['name']} is from {student['house']}\")\n",
    "\n",
    "#errrrrrrrrrrror"
   ]
  },
  {
   "cell_type": "markdown",
   "id": "eab893dd",
   "metadata": {},
   "source": [
    "حيث في الكود اعلاه واجهنا مشكله لان الفايل الذي قمنا بفتحه فيه خطا وهو انه يحوي على ثلاثه عناصر\n",
    "csvو قد نحاول حل هذه المشكله باكثر من طريقه و افضلها هو استعمال المكتبه التاليه"
   ]
  },
  {
   "cell_type": "markdown",
   "id": "a1679e22",
   "metadata": {},
   "source": [
    "بدلا من محاوله حل المشكله بانفسنا سوف نستعمل كودات الاخرين\n",
    "\n",
    "csv و الان لدينا مكتبه اسمها\n",
    "\n",
    "الوثائقي الخاص بها هو\n",
    "\n",
    "***docs.python.org/3/library/csv.html***\n",
    "\n",
    "readerو سوف نستعمل الان الاداه\n",
    "\n",
    "و التي سوف تقسم الملف بالرغم من ان احدى الاسطر تحتوي على اكثر من فاصله\n",
    "\n"
   ]
  },
  {
   "cell_type": "code",
   "execution_count": 170,
   "id": "06d2dd5b",
   "metadata": {},
   "outputs": [
    {
     "name": "stdout",
     "output_type": "stream",
     "text": [
      "Overwriting students.py\n"
     ]
    }
   ],
   "source": [
    "%%writefile students.py\n",
    "\n",
    "import csv\n",
    "\n",
    "students = []\n",
    "\n",
    "with open(\"students.csv\") as file:\n",
    "    reader = csv.reader(file)# reader\n",
    "                             # سوف تقوم بفصل النصوص بكل بساطه و سهوله حيث انها اكثر امان و فعاليه\n",
    "    for name, home in reader:\n",
    "        students.append({\"name\": name, \"home\": home})\n",
    "\n",
    "    # for row in reader:\n",
    "    #     students.append({\"name\": row[0], \"home\": row[1]})\n",
    "\n",
    "for student in sorted(students, key=lambda student: student[\"name\"]):\n",
    "    print(f\"{student['name']} is from {student['home']}\")"
   ]
  },
  {
   "cell_type": "markdown",
   "id": "dc6f93d6",
   "metadata": {},
   "source": [
    "csvهنالك خاصيه يمكننا ان نستفيد منها موجوده داخل مكتبه \n",
    "\n",
    "وهي\n",
    "\n",
    "***DictReader()***\n",
    "\n",
    "حيث ستقوم باضافه العديد من الخواص لنا \n",
    "\n",
    "و سنشرح هذه الخواص بالامثله القادمه"
   ]
  },
  {
   "cell_type": "code",
   "execution_count": null,
   "id": "6288a354",
   "metadata": {},
   "outputs": [
    {
     "name": "stdout",
     "output_type": "stream",
     "text": [
      "Overwriting students.csv\n"
     ]
    }
   ],
   "source": [
    "%%writefile students.csv\n",
    "name,home\n",
    "Harry,\"Number four, Prinvrt drive\"\n",
    "Ron,The Burrow\n",
    "Draco,Malfoy Manoor"
   ]
  },
  {
   "cell_type": "markdown",
   "id": "44ecd853",
   "metadata": {},
   "source": [
    "هنا لو نلاحظ كتبنا فوق كل قائمه اسم لها و في الكود التالي سنستفيد من هذا الاسم"
   ]
  },
  {
   "cell_type": "code",
   "execution_count": 174,
   "id": "3f963a11",
   "metadata": {},
   "outputs": [
    {
     "name": "stdout",
     "output_type": "stream",
     "text": [
      "Overwriting students.py\n"
     ]
    }
   ],
   "source": [
    "%%writefile students.py\n",
    "\n",
    "import csv\n",
    "\n",
    "students = []\n",
    "\n",
    "with open(\"students.csv\") as file:\n",
    "    reader = csv.DictReader(file)# بدلا من تحويلها الى مصفوفه في الكود السابق\n",
    "                                #حيث هنا سنقوم بتحويل كل سطر الى قاموس\n",
    "                                #و لا ننسى باننا اضفنا فوق كل عامود اسم خاص به في الملف\n",
    "    for row in reader:\n",
    "        students.append({\"name\": row[\"name\"], \"home\": row[\"home\"]})\n",
    "\n",
    "for student in sorted(students, key=lambda student: student[\"name\"]):\n",
    "    print(f\"{student['name']} is from {student['home']}\")"
   ]
  },
  {
   "cell_type": "markdown",
   "id": "20ca8b74",
   "metadata": {},
   "source": [
    "dictreaderحيث باستخدام\n",
    "\n",
    "سوف يمكننا ان ننشا قواميس ولو كان لدينا في الملف اكثر من عمود سوف ياخذ فقط الذي قمنا بتحديده \n",
    "\n",
    "و لكي يتوضح الموضع اكثر ساطبق ذلك الان"
   ]
  },
  {
   "cell_type": "code",
   "execution_count": 182,
   "id": "aece9dd5",
   "metadata": {},
   "outputs": [
    {
     "name": "stdout",
     "output_type": "stream",
     "text": [
      "Overwriting students.csv\n"
     ]
    }
   ],
   "source": [
    "%%writefile students.csv\n",
    "name,home,house\n",
    "Harry,\"Number four, Prinvrt drive\",gry\n",
    "Ron,The Burrow,gry\n",
    "Draco,Malfoy Manoor,sly"
   ]
  },
  {
   "cell_type": "code",
   "execution_count": 183,
   "id": "51b10aa2",
   "metadata": {},
   "outputs": [
    {
     "name": "stdout",
     "output_type": "stream",
     "text": [
      "Overwriting students.py\n"
     ]
    }
   ],
   "source": [
    "%%writefile students.py\n",
    "\n",
    "import csv\n",
    "\n",
    "students = []\n",
    "\n",
    "with open(\"students.csv\") as file:\n",
    "    reader = csv.DictReader(file)# بدلا من تحويلها الى مصفوفه في الكود السابق\n",
    "                                #حيث هنا سنقوم بتحويل كل سطر الى قاموس\n",
    "                                #و لا ننسى باننا اضفنا فوق كل عامود اسم خاص به في الملف\n",
    "    for row in reader:\n",
    "        students.append({\"name\": row[\"name\"], \"home\": row[\"home\"]})\n",
    "\n",
    "for student in sorted(students, key=lambda student: student[\"name\"]):\n",
    "    print(f\"{student['name']} is from {student['home']}\")"
   ]
  },
  {
   "cell_type": "markdown",
   "id": "615366d7",
   "metadata": {},
   "source": [
    "كما نرى تم كل شيء بنجاح"
   ]
  },
  {
   "cell_type": "code",
   "execution_count": 184,
   "id": "493b9111",
   "metadata": {},
   "outputs": [
    {
     "name": "stdout",
     "output_type": "stream",
     "text": [
      "Overwriting students.csv\n"
     ]
    }
   ],
   "source": [
    "%%writefile students.csv\n",
    "home,name\n",
    "\"Number four, Prinvrt drive\",Harry\n",
    "The Burrow,Ron\n",
    "Malfoy Manoor,Draco"
   ]
  },
  {
   "cell_type": "markdown",
   "id": "81ee7b5d",
   "metadata": {},
   "source": [
    "هنا لو تم عكس المعلومات نحن علينا فقط ان نعكس السطر الاول\n",
    "و سوف نحصل على نفس النتيجه للكود السابق"
   ]
  },
  {
   "cell_type": "code",
   "execution_count": null,
   "id": "417a591c",
   "metadata": {},
   "outputs": [
    {
     "name": "stdout",
     "output_type": "stream",
     "text": [
      "Overwriting students.py\n"
     ]
    }
   ],
   "source": [
    "%%writefile students.py\n",
    "\n",
    "import csv\n",
    "\n",
    "students = []\n",
    "\n",
    "with open(\"students.csv\") as file:\n",
    "    reader = csv.DictReader(file)\n",
    "    for row in reader:\n",
    "        students.append({\"name\": row[\"name\"], \"home\": row[\"home\"]})\n",
    "        #students.append(row)#يمكننا كتابتها هكذا لانناسوف نحصل على قاموس من الاداه التي سبقت هذا السطر\n",
    "\n",
    "for student in sorted(students, key=lambda student: student[\"name\"]):\n",
    "    print(f\"{student['name']} is from {student['home']}\")"
   ]
  },
  {
   "cell_type": "code",
   "execution_count": null,
   "id": "86583771",
   "metadata": {},
   "outputs": [],
   "source": [
    "%%writefile students.csv\n",
    "home,name"
   ]
  },
  {
   "cell_type": "markdown",
   "id": "ba5981c7",
   "metadata": {},
   "source": [
    "***الان نريد ان نعمل الملف الخاص بنا بانفسنا***"
   ]
  },
  {
   "cell_type": "code",
   "execution_count": null,
   "id": "5c798a11",
   "metadata": {},
   "outputs": [],
   "source": [
    "import csv\n",
    "\n",
    "name = input(\"what is your name? \")\n",
    "home = input(\"where is is your home? \")\n",
    "\n",
    "with open(\"students.csv\", \"a\") as file:\n",
    "    writer = csv.writer(file)\n",
    "    writer.writerow([name, home])\n",
    "    \n"
   ]
  },
  {
   "cell_type": "markdown",
   "id": "fbef44e7",
   "metadata": {},
   "source": [
    "في الكود اعلاه لو نكتب اسمنا و المنزل سوف يحتفظ بها و يحتفظ بكل الاسماء التي ستكتبها في كل مره تشغل فيها الكود و اذا قمت بكتابه اكثر من فاصله سوف يعالج الموضوع و يضيف لها\n",
    "\n",
    "\" \"\n",
    "\n",
    "مثل\n",
    "\n",
    "\"Number four, Prinvrt drive\"\n",
    "\n",
    "---\n"
   ]
  },
  {
   "cell_type": "markdown",
   "id": "f9bc93d5",
   "metadata": {},
   "source": [
    "و الان بما انه لدينا عمودين نستطيع ان نستخدم القواميس و هي بالتاكيد ستكون افضل و لكنها سوف نعطينا نفس النتيجه ولكن بترتين مختلف"
   ]
  },
  {
   "cell_type": "code",
   "execution_count": 186,
   "id": "d5f853e6",
   "metadata": {},
   "outputs": [],
   "source": [
    "import csv\n",
    "\n",
    "name = input(\"what is your name? \")\n",
    "home = input(\"where is is your home? \")\n",
    "\n",
    "with open(\"students.csv\", \"a\") as file:\n",
    "    writer = csv.DictWriter(file, fieldnames=[\"name\", \"home\"])# و هنا احدى الحدود لهذه الاداه نستطيع ان نحدد له ما هي المفاتيح الخاصه\n",
    "                                                              #بكل جدول عمود و التي كتبناها مسبقا في ملفنا الخاص\n",
    "    writer.writerow({\"name\": name, \"home\": home})\n",
    "    \n"
   ]
  },
  {
   "cell_type": "markdown",
   "id": "c85bfca4",
   "metadata": {},
   "source": []
  },
  {
   "cell_type": "markdown",
   "id": "044ee05e",
   "metadata": {},
   "source": [
    "---\n",
    "يجب معرفه بانه ملفات \n",
    "\n",
    "csv\n",
    "\n",
    "ليست تنسيق الملفات الوحيد الذي يمكنك استخدامه لقراءه او كتابه البيانات في الواقع انها تنسيق شائع مثل ملفات\n",
    "\n",
    ".txt\n",
    "\n",
    "ولكنك يمكنك تخزين البيانات باي طريقه تريدها و قمنا باختيار \n",
    "\n",
    "csv \n",
    "\n",
    "لانها متكرره بكيفيه كتابه و قراءه الملفات\n",
    "وقم بذلك بطريقه منظمه حيث يمكنك بطريقه ما الحصول على مفاتيح متعدده و قيم متعدده دون الحاجه الى اللجوء الى ما يعرف باسم الملف الثنائي حيث انه ملف يتكون من اصفار و احاد فقط و يمكنك وضعها في اي نمط قد ترغب فيه على وجه الخصوص اذا كنت تريد تخزين معلومات غير نصيه و ربما رسوميه او صوتيه او فديو ايضا لذلك اتضح بان بايثون جيد جدا عندما يتعلق الامر بوجود مكتبات لكل شيء حرفيا \n",
    "\n",
    "و هنالك مكتبه شعبيه اسمها\n",
    "\n",
    "PIL\n",
    "\n",
    "وثائقي \n",
    "\n",
    "***pillow.readthedocs.io***\n",
    "\n",
    "pillow حيث يسمح لك \n",
    "\n",
    " بالتنقل في ملفات الصور ايضا و تنفيذ العمليات على ملفات الصور\n",
    "\n",
    "filters حيث تستطيع عمل \n",
    "\n",
    "instgramعلى\n",
    "\n",
    "و يمكنك تحريكهم ايضا\n",
    "\n",
    "و ما سنفعله الان هو ترك الملفات النصيه خلفنا في الوقت الحالي\n",
    "\n",
    "\n",
    "و معالجه مظاهره اخرى و التركيز على هذه المكتبه و ملفات الصور المحدده\n",
    "\n",
    "---\n",
    "\n",
    "\n"
   ]
  },
  {
   "cell_type": "markdown",
   "id": "496aaf05",
   "metadata": {},
   "source": [
    "***و الان سنقوم بانشاء برنامج***\n",
    "\n",
    "***متحرمه GIF***\n",
    "\n",
    "***و يمكننا ان نجد هذه الاشياء في كل مكان على شكل ميمات و رسوم متحركه و الملصقات و ما شابه ذلك***\n",
    "\n",
    "***GIFو هي في الواقع مجرد ملف صوره***\n",
    "\n",
    "***الذي يحتوي على صور متعدده بداخله و يعرضها لك جهاز الكمبيوتر او الهاتف الخاص بك تلك الصور واحده تلو الاخرى و في بعض الاحيان في حلقه لا نهايه لها مرارا و تكرارا و طالما ان هنالك ما يكفي من الصور فانه يخلق وهم الرسوم المتحركه لان عقلك يملا الفجوات بصريا و يفترض فقط انه اذا كان هنالك شيء يتحرك على الرغم من انك فقط ترى اطار واحد في الثانيه او بعض التسلسل منه و يبدو وكانه رسوم متحركه لذا فانه يشبه نسخه مبسطه من ملف فديو***\n",
    "\n",
    "---\n",
    "\n",
    "\n",
    "سوف نبدا ببعض الازياء من لغه برمجيه شعبيه اخرى\n",
    "\n"
   ]
  },
  {
   "cell_type": "markdown",
   "id": "356ed311",
   "metadata": {},
   "source": [
    "لا تستخدم \n",
    "\n",
    "%%writefile the emogi name.gif\n",
    "\n",
    "%%writefile costume1.gif\n",
    "\n",
    "\n",
    "اي كود مثل هذا لانه سيدمر الملف\n",
    "او الصوره"
   ]
  },
  {
   "cell_type": "code",
   "execution_count": 192,
   "id": "dd9ad7ff",
   "metadata": {},
   "outputs": [
    {
     "data": {
      "image/gif": "[encoded data removed]",
      "text/plain": [
       "<IPython.core.display.Image object>"
      ]
     },
     "execution_count": 192,
     "metadata": {},
     "output_type": "execute_result"
    }
   ],
   "source": [
    "from IPython.display import Image\n",
    "Image(filename='costume1.gif')"
   ]
  },
  {
   "cell_type": "markdown",
   "id": "f8310374",
   "metadata": {},
   "source": [
    "و كما ترى استعملت مصدر خارجي نزلت فيه الصوره على المجلد الخاص بي و استعملت الكود اعلاه و تمت العمليه بنجاح"
   ]
  },
  {
   "cell_type": "code",
   "execution_count": null,
   "id": "1fdaa320",
   "metadata": {},
   "outputs": [],
   "source": [
    "%%writefile costumes.py\n",
    "\n",
    "\n",
    "import sys\n",
    "\n",
    "from PIL import Image\n",
    "\n",
    "images = []\n",
    "\n",
    "for arg in sys.argv[1:]:\n",
    "    image = Image.open(arg)\n",
    "    image.append(image)\n",
    "\n",
    "images[0].save(\n",
    "    \"costumes.gif\", save_all = True, append_images = [images[1]], duration = 200, loop=0\n",
    "\n",
    ")"
   ]
  },
  {
   "cell_type": "markdown",
   "id": "d80f73a9",
   "metadata": {},
   "source": [
    "# regular exlar expressions\n",
    "\n",
    "***regexes***\n",
    "\n",
    "كيفيه ادخال الجيميل اذا كان صحيحا او لا \n",
    "\n",
    "\n",
    "\n",
    "\n",
    "\n",
    "\n"
   ]
  },
  {
   "cell_type": "code",
   "execution_count": null,
   "id": "0dd224e9",
   "metadata": {},
   "outputs": [],
   "source": [
    "%%writefile validate.py\n",
    "\n",
    "email = input(\"what is your name? \")\n",
    "\n",
    "if \"@\" in emale:\n",
    "    print(\"valid\")\n",
    "else :\n",
    "    print(\"Invalid\")\n",
    "    "
   ]
  },
  {
   "cell_type": "markdown",
   "id": "ca22d269",
   "metadata": {},
   "source": [
    "الكود اعلاه قذر"
   ]
  },
  {
   "cell_type": "code",
   "execution_count": null,
   "id": "51347098",
   "metadata": {},
   "outputs": [],
   "source": [
    "%%writefile validate.py\n",
    "\n",
    "email = input(\"what is your name? \")\n",
    "\n",
    "if \"@\" in emale and \".\" in email:\n",
    "    print(\"valid\")\n",
    "else :\n",
    "    print(\"Invalid\")\n",
    "    "
   ]
  },
  {
   "cell_type": "markdown",
   "id": "6e339435",
   "metadata": {},
   "source": []
  },
  {
   "cell_type": "code",
   "execution_count": null,
   "id": "01aafc4e",
   "metadata": {},
   "outputs": [],
   "source": [
    "%%writefile validate.py\n",
    "\n",
    "email = input(\"what is your name? \")\n",
    "\n",
    "username, domain = emil.split(\"@\")\n",
    "\n",
    "if username and \".\" in domain:\n",
    "    print(\"valid\")\n",
    "else:\n",
    "    print(\"invalid\")\n",
    "\n"
   ]
  },
  {
   "cell_type": "markdown",
   "id": "a054bcd4",
   "metadata": {},
   "source": []
  },
  {
   "cell_type": "code",
   "execution_count": null,
   "id": "d95b43d1",
   "metadata": {},
   "outputs": [],
   "source": [
    "%%writefile validate.py\n",
    "\n",
    "email = input(\"what is your name? \")\n",
    "\n",
    "username, domain = emil.split(\"@\")\n",
    "\n",
    "if username domain.endwith(\".edu\"):\n",
    "    print(\"valid\")\n",
    "else:\n",
    "    print(\"invalid\")\n",
    "\n"
   ]
  },
  {
   "cell_type": "markdown",
   "id": "7abcef05",
   "metadata": {},
   "source": [
    "library\n",
    "\n",
    "re\n",
    "\n",
    "***الوثائقي***\n",
    "\n",
    "docs.python.org/3/library/re.html\n",
    "\n",
    "re.search(pattern, string, flags = 0)"
   ]
  },
  {
   "cell_type": "code",
   "execution_count": null,
   "id": "a7661590",
   "metadata": {},
   "outputs": [],
   "source": []
  },
  {
   "cell_type": "code",
   "execution_count": null,
   "id": "ecc70634",
   "metadata": {},
   "outputs": [],
   "source": [
    "%%writefile validate.py\n",
    "\n",
    "import re\n",
    "\n",
    "email = input(\"what is your name? \")\n",
    "\n",
    "if re.search(\"@\", email):\n",
    "    print(\"valid\")\n",
    "else:\n",
    "    print(\"invalid\")\n"
   ]
  },
  {
   "cell_type": "markdown",
   "id": "6e885045",
   "metadata": {},
   "source": [
    "re.search(pattern, string, flags = 0)\n",
    "\n",
    "(.)       any character except a newline\n",
    "\n",
    "(*)       0 or more repetitions\n",
    "\n",
    "(+)       1 or more repetitions\n",
    "\n",
    "(?)       0 or 1 repetition m repetitions\n",
    "\n",
    "{m}     m reptitions\n",
    "\n",
    "{m,n}   m-n reptitions\n",
    "\n",
    "     "
   ]
  },
  {
   "cell_type": "code",
   "execution_count": null,
   "id": "946fb069",
   "metadata": {},
   "outputs": [],
   "source": [
    "%%writefile validate.py\n",
    "\n",
    "import re\n",
    "\n",
    "email = input(\"what is your name? \")\n",
    "\n",
    "if re.search(\".+@.+,.edu\", email):#we can use .. also\n",
    "                             #first . any character except a newline\n",
    "                             #second . any character except a newline\n",
    "                             # * 0 or more repetitions\n",
    "    print(\"valid\")\n",
    "else:\n",
    "    print(\"invalid\")\n",
    "\n",
    "error\n"
   ]
  },
  {
   "cell_type": "markdown",
   "id": "96120557",
   "metadata": {},
   "source": []
  },
  {
   "cell_type": "code",
   "execution_count": null,
   "id": "9496e254",
   "metadata": {},
   "outputs": [],
   "source": [
    "%%writefile validate.py\n",
    "\n",
    "import re\n",
    "\n",
    "email = input(\"what is your name? \")\n",
    "\n",
    "if re.search(r\".+@.+,\\.edu\", email):\n",
    "    print(\"valid\")\n",
    "else:\n",
    "    print(\"invalid\")\n"
   ]
  },
  {
   "cell_type": "markdown",
   "id": "8ce48cdd",
   "metadata": {},
   "source": [
    "(^)    matches the start if the string \n",
    "\n",
    "($)    matches the end of the string or just before the newlive at the end of the string"
   ]
  },
  {
   "cell_type": "code",
   "execution_count": null,
   "id": "5fb7cf89",
   "metadata": {},
   "outputs": [],
   "source": [
    "%%writefile validate.py\n",
    "\n",
    "import re\n",
    "\n",
    "email = input(\"what is your name? \")\n",
    "\n",
    "if re.search(r\".+@.+,\\.edu$ \", email):\n",
    "    print(\"valid\")\n",
    "else:\n",
    "    print(\"invalid\")\n"
   ]
  },
  {
   "cell_type": "markdown",
   "id": "d8544183",
   "metadata": {},
   "source": [
    "[] set of characters \n",
    "[^] complementing the set\n"
   ]
  },
  {
   "cell_type": "code",
   "execution_count": null,
   "id": "62f82ae4",
   "metadata": {},
   "outputs": [],
   "source": [
    "%%writefile validate.py\n",
    "\n",
    "import re\n",
    "\n",
    "email = input(\"what is your name? \")\n",
    "\n",
    "if re.search(r\"^[^@]+@[^@]+\\.edu$\", email):\n",
    "    print(\"valid\")\n",
    "else:\n",
    "    print(\"invalid\")\n"
   ]
  },
  {
   "cell_type": "markdown",
   "id": "3b8aa149",
   "metadata": {},
   "source": [
    "[a-z]from a to z\n",
    "[A-Z]\n",
    "[a-zA-Z]without spaces\n",
    "[a-zA-Z0-9]"
   ]
  },
  {
   "cell_type": "code",
   "execution_count": null,
   "id": "9e5045e6",
   "metadata": {},
   "outputs": [],
   "source": [
    "%%writefile validate.py\n",
    "\n",
    "import re\n",
    "\n",
    "email = input(\"what is your name? \")\n",
    "\n",
    "if re.search(r\"^[a-zA-Z0-9_]+@[a-zA-Z0-9_]+\\.edu$\", email):\n",
    "    print(\"valid\")\n",
    "else:\n",
    "    print(\"invalid\")\n"
   ]
  },
  {
   "cell_type": "markdown",
   "id": "cbec1758",
   "metadata": {},
   "source": [
    "(\\w) word  character... as well as numbers anf=d the underscore\n",
    "\n",
    "(\\W) not a word character\n",
    "\n",
    "(\\d) decimal digit\n",
    "\n",
    "(\\D) not a decimal digit \n",
    "\n",
    "(\\s) whitespace characters\n",
    "\n",
    "(\\S) not whitespace characters\n",
    "\n",
    "يمكننا استخدام هذه الادوات لاختصار الوقت\n"
   ]
  },
  {
   "cell_type": "code",
   "execution_count": null,
   "id": "507c8a22",
   "metadata": {},
   "outputs": [],
   "source": [
    "%%writefile validate.py\n",
    "\n",
    "import re\n",
    "\n",
    "email = input(\"what is your name? \")\n",
    "\n",
    "if re.search(r\"^\\w+@\\w+\\.edu$\", email):\n",
    "    print(\"valid\")\n",
    "else:\n",
    "    print(\"invalid\")\n"
   ]
  },
  {
   "cell_type": "markdown",
   "id": "becbfd1b",
   "metadata": {},
   "source": [
    "A|B (either A or B)\n",
    "\n",
    "(...) a group\n",
    "\n",
    "(?:...) non-capturing version"
   ]
  },
  {
   "cell_type": "code",
   "execution_count": null,
   "id": "cbb3858b",
   "metadata": {},
   "outputs": [],
   "source": [
    "%%writefile validate.py\n",
    "\n",
    "import re\n",
    "\n",
    "email = input(\"what is your name? \")\n",
    "\n",
    "if re.search(r\"^\\w+@\\w+\\.(com|edu)$\", email):\n",
    "    print(\"valid\")\n",
    "else:\n",
    "    print(\"invalid\")\n"
   ]
  },
  {
   "cell_type": "markdown",
   "id": "540a1076",
   "metadata": {},
   "source": [
    "if we want a spaces\n",
    "\n",
    "[a-zA-Z0-9_ ]but a space in the end\n",
    "\n",
    "(\\w|\\s)this is work too\n"
   ]
  },
  {
   "cell_type": "code",
   "execution_count": null,
   "id": "bb69a655",
   "metadata": {},
   "outputs": [],
   "source": [
    "%%writefile validate.py\n",
    "\n",
    "import re\n",
    "\n",
    "email = input(\"what is your name? \")\n",
    "\n",
    "if re.search(r\"^(\\w|\\s)+@\\w+\\.(com|edu)$\", email):\n",
    "                #or [a-zA-Z0-9_ ]\n",
    "    print(\"valid\")\n",
    "else:\n",
    "    print(\"invalid\")\n"
   ]
  },
  {
   "cell_type": "markdown",
   "id": "22b64024",
   "metadata": {},
   "source": [
    "لتغيير الاحرف من احرف كبيره الى صغيره"
   ]
  },
  {
   "cell_type": "code",
   "execution_count": null,
   "id": "a537bf90",
   "metadata": {},
   "outputs": [],
   "source": [
    "%%writefile validate.py\n",
    "\n",
    "import re\n",
    "\n",
    "email = input(\"what is your name? \")# we can but the lower() function here \n",
    "\n",
    "if re.search(r\"^(\\w|\\s)+@\\w+\\.(com|edu)$\", email.lower):# or we can but the lower() function here\n",
    "                #or [a-zA-Z0-9_ ]\n",
    "    print(\"valid\")\n",
    "else:\n",
    "    print(\"invalid\")\n"
   ]
  },
  {
   "cell_type": "markdown",
   "id": "ff9344be",
   "metadata": {},
   "source": [
    "flagsاو يمكننا تغيير الاحرف باستعمال ال\n",
    "\n",
    "re.search(pattern, string, flags = 0)\n",
    "\n",
    "re.IGNORECASE\n",
    "\n",
    "re.MULTILINE\n",
    "\n",
    "re.DOTALL"
   ]
  },
  {
   "cell_type": "code",
   "execution_count": null,
   "id": "9656d2fd",
   "metadata": {},
   "outputs": [],
   "source": [
    "%%writefile validate.py\n",
    "\n",
    "import re\n",
    "\n",
    "email = input(\"what is your name? \")\n",
    "\n",
    "if re.search(r\"^(\\w|\\s)+@\\w+\\.(com|edu)$\", email, re.IGNORECASE):\n",
    "                #or [a-zA-Z0-9_ ]\n",
    "    print(\"valid\")\n",
    "else:\n",
    "    print(\"invalid\")\n"
   ]
  },
  {
   "cell_type": "markdown",
   "id": "1f17863e",
   "metadata": {},
   "source": [
    "(...) a group\n"
   ]
  },
  {
   "cell_type": "code",
   "execution_count": null,
   "id": "d6f02740",
   "metadata": {},
   "outputs": [],
   "source": [
    "%%writefile validate.py\n",
    "\n",
    "import re\n",
    "\n",
    "email = input(\"what is your name? \")\n",
    "\n",
    "if re.search(r\"^(\\w|\\s)+@\\w+\\.(com|edu)$\", email, re.IGNORECASE):\n",
    "                #or [a-zA-Z0-9_ ]\n",
    "    print(\"valid\")\n",
    "else:\n",
    "    print(\"invalid\")\n"
   ]
  }
 ],
 "metadata": {
  "kernelspec": {
   "display_name": "Python 3",
   "language": "python",
   "name": "python3"
  },
  "language_info": {
   "codemirror_mode": {
    "name": "ipython",
    "version": 3
   },
   "file_extension": ".py",
   "mimetype": "text/x-python",
   "name": "python",
   "nbconvert_exporter": "python",
   "pygments_lexer": "ipython3",
   "version": "3.12.3"
  }
 },
 "nbformat": 4,
 "nbformat_minor": 5
}
